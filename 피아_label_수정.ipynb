{
  "nbformat": 4,
  "nbformat_minor": 0,
  "metadata": {
    "colab": {
      "provenance": [],
      "gpuType": "T4",
      "include_colab_link": true
    },
    "kernelspec": {
      "name": "python3",
      "display_name": "Python 3"
    },
    "language_info": {
      "name": "python"
    },
    "accelerator": "GPU",
    "gpuClass": "standard"
  },
  "cells": [
    {
      "cell_type": "markdown",
      "metadata": {
        "id": "view-in-github",
        "colab_type": "text"
      },
      "source": [
        "<a href=\"https://colab.research.google.com/github/iii719/GUI_PEIA/blob/master/%ED%94%BC%EC%95%84_label_%EC%88%98%EC%A0%95.ipynb\" target=\"_parent\"><img src=\"https://colab.research.google.com/assets/colab-badge.svg\" alt=\"Open In Colab\"/></a>"
      ]
    },
    {
      "cell_type": "code",
      "source": [
        "from google.colab import drive\n",
        "drive.mount('/content/drive')"
      ],
      "metadata": {
        "colab": {
          "base_uri": "https://localhost:8080/",
          "height": 343
        },
        "id": "BAvArsAoNTyF",
        "outputId": "1704be3d-a189-46ed-9776-ea3fad6f8616"
      },
      "execution_count": 1,
      "outputs": [
        {
          "output_type": "error",
          "ename": "MessageError",
          "evalue": "ignored",
          "traceback": [
            "\u001b[0;31m---------------------------------------------------------------------------\u001b[0m",
            "\u001b[0;31mMessageError\u001b[0m                              Traceback (most recent call last)",
            "\u001b[0;32m<ipython-input-1-d5df0069828e>\u001b[0m in \u001b[0;36m<cell line: 2>\u001b[0;34m()\u001b[0m\n\u001b[1;32m      1\u001b[0m \u001b[0;32mfrom\u001b[0m \u001b[0mgoogle\u001b[0m\u001b[0;34m.\u001b[0m\u001b[0mcolab\u001b[0m \u001b[0;32mimport\u001b[0m \u001b[0mdrive\u001b[0m\u001b[0;34m\u001b[0m\u001b[0;34m\u001b[0m\u001b[0m\n\u001b[0;32m----> 2\u001b[0;31m \u001b[0mdrive\u001b[0m\u001b[0;34m.\u001b[0m\u001b[0mmount\u001b[0m\u001b[0;34m(\u001b[0m\u001b[0;34m'/content/drive'\u001b[0m\u001b[0;34m)\u001b[0m\u001b[0;34m\u001b[0m\u001b[0;34m\u001b[0m\u001b[0m\n\u001b[0m",
            "\u001b[0;32m/usr/local/lib/python3.10/dist-packages/google/colab/drive.py\u001b[0m in \u001b[0;36mmount\u001b[0;34m(mountpoint, force_remount, timeout_ms, readonly)\u001b[0m\n\u001b[1;32m    101\u001b[0m \u001b[0;32mdef\u001b[0m \u001b[0mmount\u001b[0m\u001b[0;34m(\u001b[0m\u001b[0mmountpoint\u001b[0m\u001b[0;34m,\u001b[0m \u001b[0mforce_remount\u001b[0m\u001b[0;34m=\u001b[0m\u001b[0;32mFalse\u001b[0m\u001b[0;34m,\u001b[0m \u001b[0mtimeout_ms\u001b[0m\u001b[0;34m=\u001b[0m\u001b[0;36m120000\u001b[0m\u001b[0;34m,\u001b[0m \u001b[0mreadonly\u001b[0m\u001b[0;34m=\u001b[0m\u001b[0;32mFalse\u001b[0m\u001b[0;34m)\u001b[0m\u001b[0;34m:\u001b[0m\u001b[0;34m\u001b[0m\u001b[0;34m\u001b[0m\u001b[0m\n\u001b[1;32m    102\u001b[0m   \u001b[0;34m\"\"\"Mount your Google Drive at the specified mountpoint path.\"\"\"\u001b[0m\u001b[0;34m\u001b[0m\u001b[0;34m\u001b[0m\u001b[0m\n\u001b[0;32m--> 103\u001b[0;31m   return _mount(\n\u001b[0m\u001b[1;32m    104\u001b[0m       \u001b[0mmountpoint\u001b[0m\u001b[0;34m,\u001b[0m\u001b[0;34m\u001b[0m\u001b[0;34m\u001b[0m\u001b[0m\n\u001b[1;32m    105\u001b[0m       \u001b[0mforce_remount\u001b[0m\u001b[0;34m=\u001b[0m\u001b[0mforce_remount\u001b[0m\u001b[0;34m,\u001b[0m\u001b[0;34m\u001b[0m\u001b[0;34m\u001b[0m\u001b[0m\n",
            "\u001b[0;32m/usr/local/lib/python3.10/dist-packages/google/colab/drive.py\u001b[0m in \u001b[0;36m_mount\u001b[0;34m(mountpoint, force_remount, timeout_ms, ephemeral, readonly)\u001b[0m\n\u001b[1;32m    130\u001b[0m   )\n\u001b[1;32m    131\u001b[0m   \u001b[0;32mif\u001b[0m \u001b[0mephemeral\u001b[0m\u001b[0;34m:\u001b[0m\u001b[0;34m\u001b[0m\u001b[0;34m\u001b[0m\u001b[0m\n\u001b[0;32m--> 132\u001b[0;31m     _message.blocking_request(\n\u001b[0m\u001b[1;32m    133\u001b[0m         \u001b[0;34m'request_auth'\u001b[0m\u001b[0;34m,\u001b[0m \u001b[0mrequest\u001b[0m\u001b[0;34m=\u001b[0m\u001b[0;34m{\u001b[0m\u001b[0;34m'authType'\u001b[0m\u001b[0;34m:\u001b[0m \u001b[0;34m'dfs_ephemeral'\u001b[0m\u001b[0;34m}\u001b[0m\u001b[0;34m,\u001b[0m \u001b[0mtimeout_sec\u001b[0m\u001b[0;34m=\u001b[0m\u001b[0;32mNone\u001b[0m\u001b[0;34m\u001b[0m\u001b[0;34m\u001b[0m\u001b[0m\n\u001b[1;32m    134\u001b[0m     )\n",
            "\u001b[0;32m/usr/local/lib/python3.10/dist-packages/google/colab/_message.py\u001b[0m in \u001b[0;36mblocking_request\u001b[0;34m(request_type, request, timeout_sec, parent)\u001b[0m\n\u001b[1;32m    174\u001b[0m       \u001b[0mrequest_type\u001b[0m\u001b[0;34m,\u001b[0m \u001b[0mrequest\u001b[0m\u001b[0;34m,\u001b[0m \u001b[0mparent\u001b[0m\u001b[0;34m=\u001b[0m\u001b[0mparent\u001b[0m\u001b[0;34m,\u001b[0m \u001b[0mexpect_reply\u001b[0m\u001b[0;34m=\u001b[0m\u001b[0;32mTrue\u001b[0m\u001b[0;34m\u001b[0m\u001b[0;34m\u001b[0m\u001b[0m\n\u001b[1;32m    175\u001b[0m   )\n\u001b[0;32m--> 176\u001b[0;31m   \u001b[0;32mreturn\u001b[0m \u001b[0mread_reply_from_input\u001b[0m\u001b[0;34m(\u001b[0m\u001b[0mrequest_id\u001b[0m\u001b[0;34m,\u001b[0m \u001b[0mtimeout_sec\u001b[0m\u001b[0;34m)\u001b[0m\u001b[0;34m\u001b[0m\u001b[0;34m\u001b[0m\u001b[0m\n\u001b[0m",
            "\u001b[0;32m/usr/local/lib/python3.10/dist-packages/google/colab/_message.py\u001b[0m in \u001b[0;36mread_reply_from_input\u001b[0;34m(message_id, timeout_sec)\u001b[0m\n\u001b[1;32m    101\u001b[0m     ):\n\u001b[1;32m    102\u001b[0m       \u001b[0;32mif\u001b[0m \u001b[0;34m'error'\u001b[0m \u001b[0;32min\u001b[0m \u001b[0mreply\u001b[0m\u001b[0;34m:\u001b[0m\u001b[0;34m\u001b[0m\u001b[0;34m\u001b[0m\u001b[0m\n\u001b[0;32m--> 103\u001b[0;31m         \u001b[0;32mraise\u001b[0m \u001b[0mMessageError\u001b[0m\u001b[0;34m(\u001b[0m\u001b[0mreply\u001b[0m\u001b[0;34m[\u001b[0m\u001b[0;34m'error'\u001b[0m\u001b[0;34m]\u001b[0m\u001b[0;34m)\u001b[0m\u001b[0;34m\u001b[0m\u001b[0;34m\u001b[0m\u001b[0m\n\u001b[0m\u001b[1;32m    104\u001b[0m       \u001b[0;32mreturn\u001b[0m \u001b[0mreply\u001b[0m\u001b[0;34m.\u001b[0m\u001b[0mget\u001b[0m\u001b[0;34m(\u001b[0m\u001b[0;34m'data'\u001b[0m\u001b[0;34m,\u001b[0m \u001b[0;32mNone\u001b[0m\u001b[0;34m)\u001b[0m\u001b[0;34m\u001b[0m\u001b[0;34m\u001b[0m\u001b[0m\n\u001b[1;32m    105\u001b[0m \u001b[0;34m\u001b[0m\u001b[0m\n",
            "\u001b[0;31mMessageError\u001b[0m: Error: credential propagation was unsuccessful"
          ]
        }
      ]
    },
    {
      "cell_type": "code",
      "source": [
        "cd \"/content/drive/MyDrive//peia\""
      ],
      "metadata": {
        "id": "_TFroPLS0ZtJ"
      },
      "execution_count": null,
      "outputs": []
    },
    {
      "cell_type": "code",
      "source": [
        "import os\n",
        "import librosa\n",
        "import pandas as pd\n",
        "import numpy as np\n",
        "import torch\n",
        "import torch.nn as nn\n",
        "import torch.nn.functional as f\n",
        "import torch.optim as optim\n",
        "from torch.utils.data import Dataset, DataLoader\n",
        "from torch.utils.data import random_split\n",
        "import matplotlib.pyplot as plt\n",
        "from sklearn.model_selection import train_test_split\n",
        "from sklearn.preprocessing import LabelEncoder, OneHotEncoder\n",
        "from skimage.transform import resize\n",
        "import pickle\n",
        "import copy\n",
        "\n",
        "device = torch.device(\"cuda\" if torch.cuda.is_available() else \"cpu\")\n",
        "os.environ['CUDA_LAUNCH_BLOCKING'] = \"1\""
      ],
      "metadata": {
        "id": "gNtMSzDDIh9g"
      },
      "execution_count": null,
      "outputs": []
    },
    {
      "cell_type": "markdown",
      "source": [
        "liked와 disliked중 하나만 체크한 데이터만 사용"
      ],
      "metadata": {
        "id": "m0MEhTloqCmt"
      }
    },
    {
      "cell_type": "code",
      "source": [
        "data = pd.read_csv('data.csv')\n",
        "se_filtered_data = data[data[' liked'] != data[' disliked']]\n",
        "se_filtered_data.to_csv('/content/drive/MyDrive/peia/se_filtered_data.csv', index=False)"
      ],
      "metadata": {
        "id": "fQW5XBg0gH6g",
        "colab": {
          "base_uri": "https://localhost:8080/"
        },
        "outputId": "dda54539-85b6-475d-dcf5-cc76d414f9a5"
      },
      "execution_count": 6,
      "outputs": [
        {
          "output_type": "stream",
          "name": "stderr",
          "text": [
            "<ipython-input-6-04880d9fdd32>:3: SettingWithCopyWarning: \n",
            "A value is trying to be set on a copy of a slice from a DataFrame.\n",
            "Try using .loc[row_indexer,col_indexer] = value instead\n",
            "\n",
            "See the caveats in the documentation: https://pandas.pydata.org/pandas-docs/stable/user_guide/indexing.html#returning-a-view-versus-a-copy\n",
            "  se_filtered_data[' liked'] = se_filtered_data[' liked'] - se_filtered_data[' disliked']\n"
          ]
        }
      ]
    },
    {
      "cell_type": "code",
      "source": [
        "data = pd.read_csv('se_filtered_data.csv')\n",
        "\n",
        "def to_tensor(df, column, dtype=torch.float):\n",
        "    return torch.tensor(df[column].values, dtype=dtype)\n",
        "\n",
        "#user_data\n",
        "user_info_columns = [' age', ' gender']\n",
        "le = LabelEncoder()\n",
        "data[' mother tongue'] = le.fit_transform(data[' mother tongue'])\n",
        "user = {col.lstrip(): to_tensor(data, col) for col in user_info_columns}\n",
        "user['mother tongue'] = torch.tensor(data[' mother tongue'].values, dtype=torch.long)\n",
        "\n",
        "#mood_data\n",
        "current_mood_column = [' mood']\n",
        "mood = {col.lstrip(): to_tensor(data, col) for col in current_mood_column}\n",
        "\n",
        "#emotion_data\n",
        "emotion_columns = [' amazement', ' solemnity', ' tenderness', ' nostalgia', ' calmness', ' power', ' joyful_activation', ' tension', ' sadness']\n",
        "emotion = {col.lstrip(): to_tensor(data, col) for col in emotion_columns}\n",
        "\n",
        "#preference_data\n",
        "liked = to_tensor(data, ' liked')\n",
        "preference = {'pref':liked }"
      ],
      "metadata": {
        "id": "3Sy8JvOuIyV2"
      },
      "execution_count": 7,
      "outputs": []
    },
    {
      "cell_type": "code",
      "source": [
        "def plot_dict(data_dict, title):\n",
        "    fig, ax = plt.subplots(1, 1, figsize=(10, 5))\n",
        "    fig.suptitle(title, fontsize=16)\n",
        "\n",
        "    if title == 'User Data: Age':\n",
        "        ax.hist(data_dict['age'].numpy(), bins='auto', edgecolor='black')\n",
        "        ax.set_title('Age')\n",
        "\n",
        "    elif title == 'User Data: Gender':\n",
        "        unique_elements, counts = torch.unique(data_dict['gender'], return_counts=True)\n",
        "        ax.pie(counts, labels=unique_elements.numpy(), autopct='%1.1f%%')\n",
        "        ax.set_title('Gender')\n",
        "\n",
        "    elif title == 'User Data: Mother Tongue':\n",
        "        unique_elements, counts = torch.unique(data_dict['mother tongue'], return_counts=True)\n",
        "        sorted_indices = torch.argsort(counts, descending=True)\n",
        "        counts_top3 = counts[sorted_indices[:3]]\n",
        "        labels = unique_elements.numpy()\n",
        "        labels_top3 = labels[sorted_indices[:3]]\n",
        "        labels_other = labels[sorted_indices[3:]]\n",
        "        ax.pie(counts, labels=labels, autopct=lambda pct: f'{pct:.1f}%' if pct in (counts_top3 / counts.sum()) * 100 else '')\n",
        "        ax.set_title('Mother Tongue')\n",
        "\n",
        "    elif title == 'Mood Data':\n",
        "        unique_elements, counts = torch.unique(data_dict['mood'], return_counts=True)\n",
        "        ax.pie(counts, labels=unique_elements.numpy(), autopct='%1.1f%%')\n",
        "        ax.set_title('Mood')\n",
        "\n",
        "    elif title == 'Emotion Data':\n",
        "        total = torch.stack(list(data_dict.values())).sum(dim=0)\n",
        "        unique_elements, counts = torch.unique(total, return_counts=True)\n",
        "        ax.pie(counts, labels=unique_elements.numpy(), autopct='%1.1f%%')\n",
        "        ax.set_title('Number of emotion choices')\n",
        "\n",
        "    elif title == 'preference Data':\n",
        "        total = torch.stack(list(data_dict.values())).sum(dim=0)\n",
        "        unique_elements, counts = torch.unique(total, return_counts=True)\n",
        "        ax.pie(counts, labels=unique_elements.numpy(), autopct='%1.1f%%')\n",
        "        ax.set_title('Whether to respond')\n",
        "\n",
        "    plt.show()\n",
        "\n",
        "plot_dict(user, 'User Data: Age')\n",
        "plot_dict(user, 'User Data: Gender')\n",
        "plot_dict(user, 'User Data: Mother Tongue')\n",
        "plot_dict(mood, 'Mood Data')\n",
        "plot_dict(emotion, 'Emotion Data')\n",
        "plot_dict(preference, 'preference Data')"
      ],
      "metadata": {
        "colab": {
          "base_uri": "https://localhost:8080/",
          "height": 1000
        },
        "id": "JupIuUu7qSgb",
        "outputId": "5017cc6b-3b19-4607-e9fc-7275cc2f483b"
      },
      "execution_count": 8,
      "outputs": [
        {
          "output_type": "display_data",
          "data": {
            "text/plain": [
              "<Figure size 1000x500 with 1 Axes>"
            ],
            "image/png": "[encoded data removed]"
          },
          "metadata": {}
        },
        {
          "output_type": "display_data",
          "data": {
            "text/plain": [
              "<Figure size 1000x500 with 1 Axes>"
            ],
            "image/png": "[encoded data removed]"
          },
          "metadata": {}
        },
        {
          "output_type": "display_data",
          "data": {
            "text/plain": [
              "<Figure size 1000x500 with 1 Axes>"
            ],
            "image/png": "[encoded data removed]"
          },
          "metadata": {}
        },
        {
          "output_type": "display_data",
          "data": {
            "text/plain": [
              "<Figure size 1000x500 with 1 Axes>"
            ],
            "image/png": "[encoded data removed]"
          },
          "metadata": {}
        },
        {
          "output_type": "display_data",
          "data": {
            "text/plain": [
              "<Figure size 1000x500 with 1 Axes>"
            ],
            "image/png": "[encoded data removed]"
          },
          "metadata": {}
        },
        {
          "output_type": "display_data",
          "data": {
            "text/plain": [
              "<Figure size 1000x500 with 1 Axes>"
            ],
            "image/png": "[encoded data removed]"
          },
          "metadata": {}
        }
      ]
    },
    {
      "cell_type": "markdown",
      "source": [
        "모든 데이터를 device로 보내고 data info 표시"
      ],
      "metadata": {
        "id": "4JbKdTKcqyAW"
      }
    },
    {
      "cell_type": "code",
      "source": [
        "user = {key: values.to(device) for key, values in user.items()}\n",
        "mood = {key: values.to(device) for key, values in mood.items()}\n",
        "emotion = {key: values.to(device) for key, values in emotion.items()}\n",
        "preference = {key: values.to(device) for key, values in preference.items()}\n",
        "\n",
        "def print_info(data_dict, title):\n",
        "    print(f\"Information for {title} data:\")\n",
        "    for key, values in data_dict.items():\n",
        "        print(f\"For key {key}: Shape: {values.shape},Type: {values.dtype}, Device: {values.device}:\")\n",
        "    print()\n",
        "\n",
        "print_info(user, 'User')\n",
        "print_info(mood, 'Mood')\n",
        "print_info(emotion, 'Emotion')\n",
        "print_info(preference, 'preference')"
      ],
      "metadata": {
        "id": "gZSpk8ddvlK-",
        "colab": {
          "base_uri": "https://localhost:8080/"
        },
        "outputId": "768bf4ef-776d-48ba-f23c-33a395990d25"
      },
      "execution_count": 9,
      "outputs": [
        {
          "output_type": "stream",
          "name": "stdout",
          "text": [
            "Information for User data:\n",
            "For key age: Shape: torch.Size([8348]),Type: torch.float32, Device: cuda:0:\n",
            "For key gender: Shape: torch.Size([8348]),Type: torch.float32, Device: cuda:0:\n",
            "For key mother tongue: Shape: torch.Size([8348]),Type: torch.int64, Device: cuda:0:\n",
            "\n",
            "Information for Mood data:\n",
            "For key mood: Shape: torch.Size([8348]),Type: torch.float32, Device: cuda:0:\n",
            "\n",
            "Information for Emotion data:\n",
            "For key amazement: Shape: torch.Size([8348]),Type: torch.float32, Device: cuda:0:\n",
            "For key solemnity: Shape: torch.Size([8348]),Type: torch.float32, Device: cuda:0:\n",
            "For key tenderness: Shape: torch.Size([8348]),Type: torch.float32, Device: cuda:0:\n",
            "For key nostalgia: Shape: torch.Size([8348]),Type: torch.float32, Device: cuda:0:\n",
            "For key calmness: Shape: torch.Size([8348]),Type: torch.float32, Device: cuda:0:\n",
            "For key power: Shape: torch.Size([8348]),Type: torch.float32, Device: cuda:0:\n",
            "For key joyful_activation: Shape: torch.Size([8348]),Type: torch.float32, Device: cuda:0:\n",
            "For key tension: Shape: torch.Size([8348]),Type: torch.float32, Device: cuda:0:\n",
            "For key sadness: Shape: torch.Size([8348]),Type: torch.float32, Device: cuda:0:\n",
            "\n",
            "Information for preference data:\n",
            "For key pref: Shape: torch.Size([8348]),Type: torch.float32, Device: cuda:0:\n",
            "\n"
          ]
        }
      ]
    },
    {
      "cell_type": "markdown",
      "source": [
        "스펙토그램 추출해서 저장"
      ],
      "metadata": {
        "id": "Vge4VeRnpkEz"
      }
    },
    {
      "cell_type": "code",
      "source": [
        "# genres = ['classical', 'rock', 'pop', 'electronic' ]\n",
        "# music_files = {genre: [] for genre in genres}\n",
        "\n",
        "# for genre in genres:\n",
        "#     for file in os.listdir(f'/content/drive/MyDrive/peia/spect_files/{genre}'):\n",
        "#         if file.endswith('.npy'):\n",
        "#             spect = np.load(f'/content/drive/MyDrive/spect_files/{genre}/{file}')\n",
        "#             spect = (spect - spect.min()) / (spect.max() - spect.min())\n",
        "#             resized_spect = resize(spect, (128, 128))\n",
        "#             tensor_spect = torch.tensor(resized_spect, dtype=torch.float)\n",
        "#             music_files[genre].append(tensor_spect)\n",
        "\n",
        "# torch.save(music_files, '/content/drive/MyDrive/peia/spect_files/music_files.pt')"
      ],
      "metadata": {
        "id": "6sKuvRKrpjJj"
      },
      "execution_count": null,
      "outputs": []
    },
    {
      "cell_type": "markdown",
      "source": [
        "이미 추출한 스펙토그램을 로드\n",
        "\n",
        "각 스펙토그램을 dataset에 맞게 적절히 복제"
      ],
      "metadata": {
        "id": "2CjfbJebyYEa"
      }
    },
    {
      "cell_type": "code",
      "source": [
        "# Load the tensor with `torch.load`\n",
        "genres = ['classical', 'rock', 'pop', 'electronic' ]\n",
        "music_files = torch.load('/content/drive/MyDrive/peia/spect_files/music_files.pt')\n",
        "\n",
        "combined_spectograms = []\n",
        "for idx in data['track id'].values:\n",
        "  genre_idx = (idx - 1) // 100\n",
        "  file_idx = (idx - 1) % 100\n",
        "  combined_spectograms.append(music_files[genres[genre_idx]][file_idx])\n",
        "combined_spectograms = torch.stack(combined_spectograms).to(device)\n",
        "Spectogram = {'spectogram': combined_spectograms}"
      ],
      "metadata": {
        "id": "BGF8X6aRxVN8"
      },
      "execution_count": 10,
      "outputs": []
    },
    {
      "cell_type": "markdown",
      "source": [
        "Custom dataset for spectogram's dimsion reduction"
      ],
      "metadata": {
        "id": "_jrIj8nUiSXf"
      }
    },
    {
      "cell_type": "code",
      "source": [
        "class SpectrogramDataset(torch.utils.data.Dataset):\n",
        "    def __init__(self, data):\n",
        "        self.data = data['spectogram']\n",
        "\n",
        "    def __getitem__(self, index):\n",
        "        return self.data[index].unsqueeze(0)\n",
        "\n",
        "    def __len__(self):\n",
        "        return len(self.data)"
      ],
      "metadata": {
        "id": "y9Pudg-GhX89"
      },
      "execution_count": 11,
      "outputs": []
    },
    {
      "cell_type": "markdown",
      "source": [
        "스펙톡그램의 차원 (8348,128,128) ->(8348,2)\n",
        "\n",
        "시간과 주파수의 domain이니까 2차원으로 충분"
      ],
      "metadata": {
        "id": "Zc7p3ifY866i"
      }
    },
    {
      "cell_type": "code",
      "source": [
        "class aE(nn.Module):\n",
        "    def __init__(self):\n",
        "        super().__init__()\n",
        "        self.encoder = nn.Sequential(\n",
        "            nn.Conv2d(1, 16, kernel_size=5, stride=1),\n",
        "            nn.ReLU(),\n",
        "            nn.MaxPool2d(kernel_size=2, stride=2),\n",
        "            nn.Conv2d(16, 64, kernel_size=5),\n",
        "            nn.ReLU(),\n",
        "            nn.MaxPool2d(kernel_size=2, stride=2),\n",
        "            nn.Flatten(),\n",
        "            nn.Linear(64*29*29, 16*29),\n",
        "            nn.ReLU(),\n",
        "            nn.Linear(16*29, 2)\n",
        "        )\n",
        "\n",
        "        self.decoder = nn.Sequential(\n",
        "          nn.Linear(2, 16*29),\n",
        "          nn.ReLU(),\n",
        "          nn.Linear(16*29, 32*29*29),\n",
        "          nn.ReLU(),\n",
        "          nn.Unflatten(1, (32, 29, 29)),\n",
        "          nn.Upsample(scale_factor=2, mode='bilinear', align_corners=False),\n",
        "          nn.ReLU(),\n",
        "          nn.ConvTranspose2d(32, 8, kernel_size=5),\n",
        "          nn.ReLU(),\n",
        "          nn.Upsample(scale_factor=2, mode='bilinear', align_corners=False),\n",
        "          nn.ConvTranspose2d(8, 1, kernel_size=5),\n",
        "          nn.Sigmoid()\n",
        "        )\n",
        "\n",
        "    def forward(self, x):\n",
        "        z = self.encoder(x)\n",
        "        x_hat = self.decoder(z)\n",
        "\n",
        "        return x_hat,z"
      ],
      "metadata": {
        "id": "lQg7aqyrNDeQ"
      },
      "execution_count": 12,
      "outputs": []
    },
    {
      "cell_type": "code",
      "source": [
        "AE = aE().to(device)\n",
        "\n",
        "learning_rate = 1e-3\n",
        "weight_decay = 0.01\n",
        "\n",
        "optimizer_AE = torch.optim.Adam(AE.parameters(), lr=learning_rate, weight_decay=weight_decay)\n",
        "scheduler_AE = torch.optim.lr_scheduler.StepLR(optimizer_AE, step_size=30, gamma=0.1)\n",
        "\n",
        "\n",
        "def loss_function_AE(x_hat, x):\n",
        "    BCE = nn.functional.binary_cross_entropy(\n",
        "        x_hat.view(-1, 128*128), x.view(-1, 128*128), reduction='sum'\n",
        "    )\n",
        "\n",
        "    return BCE"
      ],
      "metadata": {
        "id": "EsK33sn4bKE9"
      },
      "execution_count": 13,
      "outputs": []
    },
    {
      "cell_type": "code",
      "source": [
        "dataset = SpectrogramDataset(Spectogram)\n",
        "batch_size = 16\n",
        "\n",
        "num_train = int(len(dataset) * 0.8)\n",
        "num_val = len(dataset) - num_train\n",
        "\n",
        "train_dataset, val_dataset = random_split(dataset, [num_train, num_val])\n",
        "\n",
        "train_loader = torch.utils.data.DataLoader(train_dataset, batch_size=batch_size, shuffle=True)\n",
        "val_loader = torch.utils.data.DataLoader(val_dataset, batch_size=batch_size, shuffle=True)"
      ],
      "metadata": {
        "id": "e-BytbNw2sKS"
      },
      "execution_count": 14,
      "outputs": []
    },
    {
      "cell_type": "markdown",
      "source": [
        "학습"
      ],
      "metadata": {
        "id": "t3VGoRc5jkQt"
      }
    },
    {
      "cell_type": "code",
      "source": [
        "n_epochs = 50\n",
        "\n",
        "for epoch in range(n_epochs):\n",
        "\n",
        "    AE.train()\n",
        "    train_loss_AE = 0\n",
        "    for x in train_loader:\n",
        "        optimizer_AE.zero_grad()\n",
        "        x_hat,_ = AE(x)\n",
        "        loss = loss_function_AE(x_hat, x)\n",
        "        loss.backward()\n",
        "        optimizer_AE.step()\n",
        "        train_loss_AE += loss.item()\n",
        "    train_loss_AE /= len(train_loader)\n",
        "\n",
        "    AE.eval()\n",
        "    val_loss_AE = 0\n",
        "    with torch.no_grad():\n",
        "        for x in val_loader:\n",
        "            x_hat,_ = AE(x)\n",
        "            loss = loss_function_AE(x_hat, x)\n",
        "            val_loss_AE += loss.item()\n",
        "        val_loss_AE /= len(val_loader)\n",
        "\n",
        "    print(f\"Epoch: {epoch}, Train Loss: {train_loss_AE:.3f}, Val Loss: {val_loss_AE:.3f}\")\n",
        "\n",
        "torch.save(AE.state_dict(), \"AE_params.pth\")"
      ],
      "metadata": {
        "id": "8jlrfUGgb-nK",
        "colab": {
          "base_uri": "https://localhost:8080/"
        },
        "outputId": "7dc9dbc2-1a1c-4c23-a32f-fe0bb13217fe"
      },
      "execution_count": null,
      "outputs": [
        {
          "output_type": "stream",
          "name": "stdout",
          "text": [
            "Epoch: 0, Train Loss: 4058.591, Val Loss: 4109.718\n",
            "Epoch: 1, Train Loss: 4047.453, Val Loss: 4106.751\n",
            "Epoch: 2, Train Loss: 4046.818, Val Loss: 4102.538\n",
            "Epoch: 3, Train Loss: 4043.679, Val Loss: 4113.929\n",
            "Epoch: 4, Train Loss: 4043.465, Val Loss: 4102.838\n",
            "Epoch: 5, Train Loss: 4041.159, Val Loss: 4104.698\n",
            "Epoch: 6, Train Loss: 4036.696, Val Loss: 4101.408\n",
            "Epoch: 7, Train Loss: 4037.551, Val Loss: 4096.851\n",
            "Epoch: 8, Train Loss: 4034.787, Val Loss: 4096.378\n",
            "Epoch: 9, Train Loss: 4033.602, Val Loss: 4095.864\n",
            "Epoch: 10, Train Loss: 4032.278, Val Loss: 4109.117\n",
            "Epoch: 11, Train Loss: 4031.022, Val Loss: 4089.095\n",
            "Epoch: 12, Train Loss: 4027.203, Val Loss: 4095.472\n",
            "Epoch: 13, Train Loss: 4026.855, Val Loss: 4086.502\n",
            "Epoch: 14, Train Loss: 4026.553, Val Loss: 4087.409\n",
            "Epoch: 15, Train Loss: 4021.863, Val Loss: 4093.787\n",
            "Epoch: 16, Train Loss: 4023.852, Val Loss: 4088.045\n",
            "Epoch: 17, Train Loss: 4024.820, Val Loss: 4079.909\n",
            "Epoch: 18, Train Loss: 4017.458, Val Loss: 4082.239\n",
            "Epoch: 19, Train Loss: 4017.990, Val Loss: 4075.938\n",
            "Epoch: 20, Train Loss: 4017.691, Val Loss: 4089.432\n",
            "Epoch: 21, Train Loss: 4016.048, Val Loss: 4085.213\n",
            "Epoch: 22, Train Loss: 4014.874, Val Loss: 4081.994\n",
            "Epoch: 23, Train Loss: 4012.661, Val Loss: 4075.446\n",
            "Epoch: 24, Train Loss: 4012.826, Val Loss: 4085.321\n",
            "Epoch: 25, Train Loss: 4010.675, Val Loss: 4077.740\n",
            "Epoch: 26, Train Loss: 4009.207, Val Loss: 4073.417\n",
            "Epoch: 27, Train Loss: 4009.397, Val Loss: 4080.990\n",
            "Epoch: 28, Train Loss: 4007.512, Val Loss: 4067.710\n",
            "Epoch: 29, Train Loss: 4007.039, Val Loss: 4071.361\n",
            "Epoch: 30, Train Loss: 4005.180, Val Loss: 4067.884\n",
            "Epoch: 31, Train Loss: 4008.731, Val Loss: 4077.081\n",
            "Epoch: 32, Train Loss: 3999.050, Val Loss: 4068.176\n",
            "Epoch: 33, Train Loss: 4001.384, Val Loss: 4070.650\n",
            "Epoch: 34, Train Loss: 4002.633, Val Loss: 4064.394\n",
            "Epoch: 35, Train Loss: 4001.372, Val Loss: 4065.220\n",
            "Epoch: 36, Train Loss: 3997.631, Val Loss: 4064.309\n",
            "Epoch: 37, Train Loss: 3997.895, Val Loss: 4062.196\n",
            "Epoch: 38, Train Loss: 3996.320, Val Loss: 4066.336\n",
            "Epoch: 39, Train Loss: 3994.662, Val Loss: 4055.652\n",
            "Epoch: 40, Train Loss: 3995.346, Val Loss: 4061.972\n",
            "Epoch: 41, Train Loss: 3994.399, Val Loss: 4067.511\n",
            "Epoch: 42, Train Loss: 3994.957, Val Loss: 4059.674\n",
            "Epoch: 43, Train Loss: 3990.298, Val Loss: 4060.752\n",
            "Epoch: 44, Train Loss: 3992.570, Val Loss: 4053.433\n",
            "Epoch: 45, Train Loss: 3989.773, Val Loss: 4056.819\n",
            "Epoch: 46, Train Loss: 3993.319, Val Loss: 4052.622\n",
            "Epoch: 47, Train Loss: 3987.305, Val Loss: 4058.878\n",
            "Epoch: 48, Train Loss: 3986.299, Val Loss: 4053.307\n",
            "Epoch: 49, Train Loss: 3988.590, Val Loss: 4062.248\n"
          ]
        }
      ]
    },
    {
      "cell_type": "code",
      "source": [
        "AE.load_state_dict(torch.load(\"AE_params.pth\"))\n",
        "dataset = SpectrogramDataset(Spectogram)\n",
        "input_loader = DataLoader(dataset, batch_size=32, shuffle=False)\n",
        "\n",
        "transformed_data = []\n",
        "\n",
        "AE.eval().to(device)\n",
        "\n",
        "with torch.no_grad():\n",
        "    for inputs in input_loader:\n",
        "        x_hat, transformed_batch = AE(inputs.to(device))\n",
        "\n",
        "        transformed_data.append(transformed_batch)\n",
        "\n",
        "transformed_data = torch.cat(transformed_data, dim=0)\n",
        "transformed_data1 = transformed_data[:, 0]\n",
        "transformed_data2 = transformed_data[:, 1]"
      ],
      "metadata": {
        "id": "UkYKYCmNzC_b"
      },
      "execution_count": 15,
      "outputs": []
    },
    {
      "cell_type": "markdown",
      "source": [
        "4930X2의 shape을 4930짜리 두개로 쪼개서 dataset shape 통일"
      ],
      "metadata": {
        "id": "gnJYXYttrjka"
      }
    },
    {
      "cell_type": "code",
      "source": [
        "Genre = {}\n",
        "Genre['genre1'] = transformed_data1\n",
        "Genre['genre2'] = transformed_data2\n",
        "print_info(Genre, 'Genre')"
      ],
      "metadata": {
        "colab": {
          "base_uri": "https://localhost:8080/"
        },
        "id": "pZ64Ra-Q1JgF",
        "outputId": "9dfbfd2e-ed3c-4ed5-d2d2-2aecf824c630"
      },
      "execution_count": 16,
      "outputs": [
        {
          "output_type": "stream",
          "name": "stdout",
          "text": [
            "Information for Genre data:\n",
            "For key genre1: Shape: torch.Size([8348]),Type: torch.float32, Device: cuda:0:\n",
            "For key genre2: Shape: torch.Size([8348]),Type: torch.float32, Device: cuda:0:\n",
            "\n"
          ]
        }
      ]
    },
    {
      "cell_type": "markdown",
      "source": [
        "현재 400곡에 대한 스펙토그램을 장르별 추출\n",
        "\n",
        "추후 곡 추가시 재활용"
      ],
      "metadata": {
        "id": "CsgnijR_r5W7"
      }
    },
    {
      "cell_type": "code",
      "source": [
        "genre_song_count = {}\n",
        "\n",
        "genre_dirs = ['classical', 'rock', 'pop', 'electronic']\n",
        "\n",
        "for genre in genre_dirs:\n",
        "    files_in_dir = os.listdir(f'emotifymusic/{genre}')\n",
        "    files_in_dir = [int(os.path.splitext(file)[0]) for file in files_in_dir]\n",
        "    files_in_dir = sorted(files_in_dir)\n",
        "    last_file = files_in_dir[-1]\n",
        "    genre_song_count[genre] = last_file"
      ],
      "metadata": {
        "id": "ZB4veWKV7IV1"
      },
      "execution_count": null,
      "outputs": []
    },
    {
      "cell_type": "markdown",
      "source": [
        "music_files에 대한 데이터셋 커스텀"
      ],
      "metadata": {
        "id": "nxjB0JO6ehbq"
      }
    },
    {
      "cell_type": "code",
      "source": [
        "class MultiSpectrogramDataset(torch.utils.data.Dataset):\n",
        "    def __init__(self, data):\n",
        "        self.data = data\n",
        "        self.genres = list(data.keys())\n",
        "        self.lengths = [len(data[genre]) for genre in self.genres]\n",
        "        self.total_length = sum(self.lengths)\n",
        "\n",
        "    def __getitem__(self, index):\n",
        "        for i, length in enumerate(self.lengths):\n",
        "            if index < length:\n",
        "                return self.data[self.genres[i]][index].unsqueeze(0)\n",
        "            else:\n",
        "                index -= length\n",
        "\n",
        "    def __len__(self):\n",
        "        return self.total_length\n"
      ],
      "metadata": {
        "id": "JVMOmHUVegwR"
      },
      "execution_count": null,
      "outputs": []
    },
    {
      "cell_type": "markdown",
      "source": [
        "music_files에 대한 AE"
      ],
      "metadata": {
        "id": "4X-oNO-jimxw"
      }
    },
    {
      "cell_type": "code",
      "source": [
        "music_files_dataset = MultiSpectrogramDataset(music_files)\n",
        "input_loader = DataLoader(music_files_dataset, batch_size=16, shuffle=False)\n",
        "\n",
        "transformed_data = []\n",
        "AE.eval().to(device)\n",
        "with torch.no_grad():\n",
        "    for inputs in input_loader:\n",
        "        x_hat, transformed_batch = AE(inputs.to(device))\n",
        "        transformed_data.append(transformed_batch)\n",
        "\n",
        "transformed_data = torch.cat(transformed_data, dim=0)\n",
        "\n",
        "Genres = {genre: [] for genre in music_files.keys()}\n",
        "for i, genre in enumerate(music_files_dataset.genres):\n",
        "    Genres[genre] = transformed_data[sum(music_files_dataset.lengths[:i]):sum(music_files_dataset.lengths[:i+1])]"
      ],
      "metadata": {
        "id": "FZ2v-HrbdRkH"
      },
      "execution_count": null,
      "outputs": []
    },
    {
      "cell_type": "code",
      "source": [
        "for genre, data in Genres.items():\n",
        "    print(f'Genre: {genre}')\n",
        "    print(f'Number of items: {len(data)}')\n",
        "    print(f'Data type: {type(data)}')\n",
        "    print(f'Shape of the data: {data.shape}')\n",
        "    print('-------------------------')"
      ],
      "metadata": {
        "colab": {
          "base_uri": "https://localhost:8080/"
        },
        "id": "DxuTC3e8fmo3",
        "outputId": "ace43e0c-c532-4125-d78d-05c6445a7e85"
      },
      "execution_count": null,
      "outputs": [
        {
          "output_type": "stream",
          "name": "stdout",
          "text": [
            "Genre: classical\n",
            "Number of items: 100\n",
            "Data type: <class 'torch.Tensor'>\n",
            "Shape of the data: torch.Size([100, 2])\n",
            "-------------------------\n",
            "Genre: rock\n",
            "Number of items: 100\n",
            "Data type: <class 'torch.Tensor'>\n",
            "Shape of the data: torch.Size([100, 2])\n",
            "-------------------------\n",
            "Genre: pop\n",
            "Number of items: 100\n",
            "Data type: <class 'torch.Tensor'>\n",
            "Shape of the data: torch.Size([100, 2])\n",
            "-------------------------\n",
            "Genre: electronic\n",
            "Number of items: 100\n",
            "Data type: <class 'torch.Tensor'>\n",
            "Shape of the data: torch.Size([100, 2])\n",
            "-------------------------\n"
          ]
        }
      ]
    },
    {
      "cell_type": "code",
      "source": [
        "save_dir = 'spected_music'\n",
        "os.makedirs(save_dir, exist_ok=True)\n",
        "for genre, data in Genres.items():\n",
        "    torch.save(data, os.path.join(save_dir, f'{genre}_data.pt'))"
      ],
      "metadata": {
        "id": "wi6V54lLikrB"
      },
      "execution_count": null,
      "outputs": []
    },
    {
      "cell_type": "code",
      "source": [
        "total_spected = torch.cat([data for vdata in Genres.values()], dim=0)"
      ],
      "metadata": {
        "id": "i2OUZuNkwiTW"
      },
      "execution_count": null,
      "outputs": []
    },
    {
      "cell_type": "markdown",
      "source": [
        "각 곡에 대해 상위 5개를 매핑해주는 딕셔너리(장르 불문)\n",
        "\n",
        "뒤에 소수점은 장르 판단을 위한 표시\n",
        "\n",
        ".0 = classical\n",
        "\n",
        ".1 = rock\n",
        "\n",
        ".2 = pop\n",
        "\n",
        ".3 = electronic\n",
        "\n",
        "음량은 유사도와 상관없다고 판단, 방향만 고려하는 cosine_similarity 사용"
      ],
      "metadata": {
        "id": "bHekQ5KXz2VE"
      }
    },
    {
      "cell_type": "code",
      "source": [
        "classical_top_5_similar={}\n",
        "rock_top_5_similar={}\n",
        "pop_top_5_similar={}\n",
        "electronic_top_5_similar={}\n",
        "\n",
        "classical_start = 0\n",
        "rock_start = classical_start + genre_song_count['classical']\n",
        "pop_start = rock_start + genre_song_count['rock']\n",
        "electronic_start = pop_start+genre_song_count['pop']\n",
        "\n",
        "for i in range(total_spected.shape[0]):\n",
        "    song = total_spected[i]\n",
        "    similarities = f.cosine_similarity(song, total_spected)\n",
        "    similarities[i] = -2\n",
        "    top_5 = similarities.argsort(descending=True)[:5].tolist()\n",
        "    for j in range(len(top_5)):\n",
        "      if top_5[j] < rock_start:\n",
        "        top_5[j] = top_5[j]+0.0-classical_start\n",
        "      elif top_5[j] < pop_start:\n",
        "        top_5[j] = top_5[j]+0.1-rock_start\n",
        "      elif top_5[j] < electronic_start:\n",
        "        top_5[j] = top_5[j]+0.2-pop_start\n",
        "      else:\n",
        "        top_5[j] = top_5[j]+0.3-electronic_start\n",
        "\n",
        "    if i<rock_start:\n",
        "        classical_top_5_similar[i] = top_5\n",
        "    elif i<pop_start:\n",
        "        i-=rock_start\n",
        "        rock_top_5_similar[i] = top_5\n",
        "    elif i<electronic_start:\n",
        "        i-=pop_start\n",
        "        pop_top_5_similar[i] = top_5\n",
        "    else:\n",
        "        i-=electronic_start\n",
        "        electronic_top_5_similar[i] = top_5"
      ],
      "metadata": {
        "id": "wXFbduXQx01t"
      },
      "execution_count": null,
      "outputs": []
    },
    {
      "cell_type": "markdown",
      "source": [
        "소수점 오류를 위해 실제론 round 적절히 활용"
      ],
      "metadata": {
        "id": "cBq4ou3sshmY"
      }
    },
    {
      "cell_type": "code",
      "source": [
        "for k,v in classical_top_5_similar.items():\n",
        "  print(f'key is {k} and v is {v}')\n",
        "for k,v in rock_top_5_similar.items():\n",
        "  print(f'key is {k} and v is {v}')\n",
        "for k,v in pop_top_5_similar.items():\n",
        "  print(f'key is {k} and v is {v}')\n",
        "for k,v in electronic_top_5_similar.items():\n",
        "  print(f'key is {k} and v is {v}')"
      ],
      "metadata": {
        "colab": {
          "base_uri": "https://localhost:8080/"
        },
        "id": "C5WYH7OdaAvs",
        "outputId": "8c985780-8ccf-4bcc-8f55-014ffdd393cb"
      },
      "execution_count": null,
      "outputs": [
        {
          "output_type": "stream",
          "name": "stdout",
          "text": [
            "key is 0 and v is [0.09999999999999432, 0.19999999999998863, 0.30000000000001137, 72.0, 72.1]\n",
            "key is 1 and v is [1.0999999999999943, 1.1999999999999886, 1.3000000000000114, 67.0, 67.1]\n",
            "key is 2 and v is [2.0999999999999943, 2.1999999999999886, 2.3000000000000114, 15.0, 15.099999999999994]\n",
            "key is 3 and v is [3.0999999999999943, 3.1999999999999886, 3.3000000000000114, 50.0, 50.099999999999994]\n",
            "key is 4 and v is [4.099999999999994, 4.199999999999989, 4.300000000000011, 89.0, 89.1]\n",
            "key is 5 and v is [5.099999999999994, 5.199999999999989, 5.300000000000011, 19.0, 19.099999999999994]\n",
            "key is 6 and v is [6.099999999999994, 6.199999999999989, 6.300000000000011, 61.0, 61.099999999999994]\n",
            "key is 7 and v is [7.099999999999994, 7.199999999999989, 7.300000000000011, 92.0, 92.1]\n",
            "key is 8 and v is [8.099999999999994, 8.199999999999989, 8.300000000000011, 72.0, 72.1]\n",
            "key is 9 and v is [9.099999999999994, 9.199999999999989, 9.300000000000011, 21.0, 21.099999999999994]\n",
            "key is 10 and v is [10.099999999999994, 10.199999999999989, 10.300000000000011, 26.0, 26.099999999999994]\n",
            "key is 11 and v is [11.099999999999994, 11.199999999999989, 11.300000000000011, 7.0, 7.099999999999994]\n",
            "key is 12 and v is [12.099999999999994, 12.199999999999989, 12.300000000000011, 66.0, 66.1]\n",
            "key is 13 and v is [13.099999999999994, 13.199999999999989, 13.300000000000011, 2.0, 2.0999999999999943]\n",
            "key is 14 and v is [14.099999999999994, 14.199999999999989, 14.300000000000011, 65.0, 65.1]\n",
            "key is 15 and v is [15.099999999999994, 15.199999999999989, 15.300000000000011, 2.0, 2.0999999999999943]\n",
            "key is 16 and v is [59.0, 16.099999999999994, 59.099999999999994, 16.19999999999999, 59.19999999999999]\n",
            "key is 17 and v is [17.099999999999994, 17.19999999999999, 17.30000000000001, 32.0, 32.099999999999994]\n",
            "key is 18 and v is [18.099999999999994, 18.19999999999999, 18.30000000000001, 82.0, 82.1]\n",
            "key is 19 and v is [19.099999999999994, 19.19999999999999, 19.30000000000001, 5.0, 5.099999999999994]\n",
            "key is 20 and v is [20.099999999999994, 20.19999999999999, 20.30000000000001, 38.0, 38.099999999999994]\n",
            "key is 21 and v is [21.099999999999994, 21.19999999999999, 21.30000000000001, 35.0, 35.099999999999994]\n",
            "key is 22 and v is [22.099999999999994, 22.19999999999999, 22.30000000000001, 77.0, 77.1]\n",
            "key is 23 and v is [23.099999999999994, 23.19999999999999, 23.30000000000001, 54.0, 54.099999999999994]\n",
            "key is 24 and v is [24.099999999999994, 24.19999999999999, 24.30000000000001, 59.0, 59.099999999999994]\n",
            "key is 25 and v is [25.099999999999994, 25.19999999999999, 25.30000000000001, 47.0, 47.099999999999994]\n",
            "key is 26 and v is [26.099999999999994, 26.19999999999999, 26.30000000000001, 10.0, 10.099999999999994]\n",
            "key is 27 and v is [27.099999999999994, 27.19999999999999, 27.30000000000001, 28.0, 28.099999999999994]\n",
            "key is 28 and v is [28.099999999999994, 28.19999999999999, 28.30000000000001, 27.0, 27.099999999999994]\n",
            "key is 29 and v is [29.099999999999994, 29.19999999999999, 29.30000000000001, 84.0, 84.1]\n",
            "key is 30 and v is [30.099999999999994, 30.19999999999999, 30.30000000000001, 69.0, 69.1]\n",
            "key is 31 and v is [31.099999999999994, 31.19999999999999, 31.30000000000001, 41.0, 41.099999999999994]\n",
            "key is 32 and v is [32.099999999999994, 32.19999999999999, 32.30000000000001, 51.0, 51.099999999999994]\n",
            "key is 33 and v is [33.099999999999994, 33.19999999999999, 33.30000000000001, 90.0, 90.1]\n",
            "key is 34 and v is [34.099999999999994, 34.19999999999999, 34.30000000000001, 30.0, 30.099999999999994]\n",
            "key is 35 and v is [35.099999999999994, 35.19999999999999, 35.30000000000001, 76.0, 76.1]\n",
            "key is 36 and v is [36.099999999999994, 36.19999999999999, 36.30000000000001, 71.0, 71.1]\n",
            "key is 37 and v is [37.099999999999994, 37.19999999999999, 37.30000000000001, 55.0, 55.099999999999994]\n",
            "key is 38 and v is [38.099999999999994, 38.19999999999999, 38.30000000000001, 20.0, 20.099999999999994]\n",
            "key is 39 and v is [39.099999999999994, 39.19999999999999, 39.30000000000001, 63.0, 63.099999999999994]\n",
            "key is 40 and v is [40.099999999999994, 40.19999999999999, 40.30000000000001, 75.0, 75.1]\n",
            "key is 41 and v is [41.099999999999994, 41.19999999999999, 41.30000000000001, 63.0, 63.099999999999994]\n",
            "key is 42 and v is [42.099999999999994, 42.19999999999999, 42.30000000000001, 4.0, 4.099999999999994]\n",
            "key is 43 and v is [43.099999999999994, 43.19999999999999, 43.30000000000001, 40.0, 40.099999999999994]\n",
            "key is 44 and v is [44.099999999999994, 44.19999999999999, 44.30000000000001, 0.0, 0.09999999999999432]\n",
            "key is 45 and v is [45.099999999999994, 45.19999999999999, 45.30000000000001, 57.0, 57.099999999999994]\n",
            "key is 46 and v is [46.099999999999994, 46.19999999999999, 46.30000000000001, 85.0, 85.1]\n",
            "key is 47 and v is [47.099999999999994, 47.19999999999999, 47.30000000000001, 25.0, 25.099999999999994]\n",
            "key is 48 and v is [48.099999999999994, 48.19999999999999, 48.30000000000001, 81.0, 81.1]\n",
            "key is 49 and v is [49.099999999999994, 49.19999999999999, 49.30000000000001, 90.0, 90.1]\n",
            "key is 50 and v is [50.099999999999994, 50.19999999999999, 50.30000000000001, 9.0, 9.099999999999994]\n",
            "key is 51 and v is [51.099999999999994, 51.19999999999999, 51.30000000000001, 32.0, 32.099999999999994]\n",
            "key is 52 and v is [52.099999999999994, 52.19999999999999, 52.30000000000001, 26.0, 26.099999999999994]\n",
            "key is 53 and v is [53.099999999999994, 53.19999999999999, 53.30000000000001, 93.0, 93.1]\n",
            "key is 54 and v is [54.099999999999994, 54.19999999999999, 54.30000000000001, 12.0, 12.099999999999994]\n",
            "key is 55 and v is [55.099999999999994, 55.19999999999999, 55.30000000000001, 37.0, 37.099999999999994]\n",
            "key is 56 and v is [56.099999999999994, 56.19999999999999, 56.30000000000001, 8.0, 8.099999999999994]\n",
            "key is 57 and v is [57.099999999999994, 57.19999999999999, 57.30000000000001, 45.0, 45.099999999999994]\n",
            "key is 58 and v is [58.099999999999994, 58.19999999999999, 58.30000000000001, 79.0, 79.1]\n",
            "key is 59 and v is [59.099999999999994, 59.19999999999999, 59.30000000000001, 16.0, 16.099999999999994]\n",
            "key is 60 and v is [60.099999999999994, 60.19999999999999, 60.30000000000001, 49.0, 49.099999999999994]\n",
            "key is 61 and v is [84.0, 61.099999999999994, 84.1, 61.19999999999999, 84.19999999999999]\n",
            "key is 62 and v is [62.099999999999994, 62.19999999999999, 62.30000000000001, 1.0, 1.0999999999999943]\n",
            "key is 63 and v is [63.099999999999994, 63.19999999999999, 63.30000000000001, 41.0, 41.099999999999994]\n",
            "key is 64 and v is [64.1, 64.19999999999999, 64.30000000000001, 55.0, 55.099999999999994]\n",
            "key is 65 and v is [65.1, 65.19999999999999, 65.30000000000001, 98.0, 98.1]\n",
            "key is 66 and v is [66.1, 66.19999999999999, 66.30000000000001, 12.0, 12.099999999999994]\n",
            "key is 67 and v is [67.1, 67.19999999999999, 67.30000000000001, 87.0, 87.1]\n",
            "key is 68 and v is [68.1, 68.19999999999999, 68.30000000000001, 96.0, 96.1]\n",
            "key is 69 and v is [69.1, 69.19999999999999, 69.30000000000001, 87.0, 87.1]\n",
            "key is 70 and v is [70.1, 70.19999999999999, 70.30000000000001, 57.0, 57.099999999999994]\n",
            "key is 71 and v is [71.1, 71.19999999999999, 71.30000000000001, 36.0, 36.099999999999994]\n",
            "key is 72 and v is [72.1, 72.19999999999999, 72.30000000000001, 0.0, 0.09999999999999432]\n",
            "key is 73 and v is [73.1, 73.19999999999999, 73.30000000000001, 86.0, 86.1]\n",
            "key is 74 and v is [74.1, 74.19999999999999, 74.30000000000001, 79.0, 79.1]\n",
            "key is 75 and v is [75.1, 75.19999999999999, 75.30000000000001, 40.0, 40.099999999999994]\n",
            "key is 76 and v is [76.1, 76.19999999999999, 76.30000000000001, 35.0, 35.099999999999994]\n",
            "key is 77 and v is [77.1, 77.19999999999999, 77.30000000000001, 88.0, 88.1]\n",
            "key is 78 and v is [78.1, 78.19999999999999, 78.30000000000001, 17.0, 17.099999999999994]\n",
            "key is 79 and v is [79.1, 79.19999999999999, 79.30000000000001, 58.0, 58.099999999999994]\n",
            "key is 80 and v is [80.1, 80.19999999999999, 80.30000000000001, 47.0, 47.099999999999994]\n",
            "key is 81 and v is [81.1, 81.19999999999999, 81.30000000000001, 48.0, 48.099999999999994]\n",
            "key is 82 and v is [82.1, 82.19999999999999, 82.30000000000001, 18.0, 18.099999999999994]\n",
            "key is 83 and v is [83.1, 83.19999999999999, 83.30000000000001, 15.0, 15.099999999999994]\n",
            "key is 84 and v is [61.0, 61.099999999999994, 84.1, 61.19999999999999, 84.19999999999999]\n",
            "key is 85 and v is [85.1, 85.19999999999999, 85.30000000000001, 91.0, 91.1]\n",
            "key is 86 and v is [86.1, 86.19999999999999, 86.30000000000001, 23.0, 23.099999999999994]\n",
            "key is 87 and v is [87.1, 87.19999999999999, 87.30000000000001, 69.0, 69.1]\n",
            "key is 88 and v is [88.1, 88.19999999999999, 88.30000000000001, 77.0, 77.1]\n",
            "key is 89 and v is [89.1, 89.19999999999999, 89.30000000000001, 4.0, 4.099999999999994]\n",
            "key is 90 and v is [90.1, 90.19999999999999, 90.30000000000001, 49.0, 49.099999999999994]\n",
            "key is 91 and v is [91.1, 91.19999999999999, 91.30000000000001, 85.0, 85.1]\n",
            "key is 92 and v is [92.1, 92.19999999999999, 92.30000000000001, 7.0, 7.099999999999994]\n",
            "key is 93 and v is [93.1, 93.19999999999999, 93.30000000000001, 53.0, 53.099999999999994]\n",
            "key is 94 and v is [94.1, 94.19999999999999, 94.30000000000001, 43.0, 43.099999999999994]\n",
            "key is 95 and v is [95.1, 95.19999999999999, 95.30000000000001, 83.0, 83.1]\n",
            "key is 96 and v is [96.1, 96.19999999999999, 96.30000000000001, 68.0, 68.1]\n",
            "key is 97 and v is [97.1, 97.19999999999999, 97.30000000000001, 56.0, 56.099999999999994]\n",
            "key is 98 and v is [98.1, 98.19999999999999, 98.30000000000001, 48.0, 48.099999999999994]\n",
            "key is 99 and v is [99.1, 99.19999999999999, 99.30000000000001, 74.0, 74.1]\n",
            "key is 0 and v is [0.0, 0.19999999999998863, 0.30000000000001137, 72.0, 72.1]\n",
            "key is 1 and v is [1.0, 1.1999999999999886, 1.3000000000000114, 67.0, 67.1]\n",
            "key is 2 and v is [2.0, 2.1999999999999886, 2.3000000000000114, 15.0, 15.099999999999994]\n",
            "key is 3 and v is [3.0, 3.1999999999999886, 3.3000000000000114, 50.0, 50.099999999999994]\n",
            "key is 4 and v is [4.0, 4.199999999999989, 4.300000000000011, 89.0, 89.1]\n",
            "key is 5 and v is [5.0, 5.199999999999989, 5.300000000000011, 19.0, 19.099999999999994]\n",
            "key is 6 and v is [6.0, 6.199999999999989, 6.300000000000011, 61.0, 61.099999999999994]\n",
            "key is 7 and v is [7.0, 7.199999999999989, 7.300000000000011, 92.0, 92.1]\n",
            "key is 8 and v is [8.0, 8.199999999999989, 8.300000000000011, 72.0, 72.1]\n",
            "key is 9 and v is [9.0, 9.199999999999989, 9.300000000000011, 21.0, 21.099999999999994]\n",
            "key is 10 and v is [10.0, 10.199999999999989, 10.300000000000011, 26.0, 26.099999999999994]\n",
            "key is 11 and v is [11.0, 11.199999999999989, 11.300000000000011, 7.0, 7.099999999999994]\n",
            "key is 12 and v is [12.0, 12.199999999999989, 12.300000000000011, 66.0, 66.1]\n",
            "key is 13 and v is [13.0, 13.199999999999989, 13.300000000000011, 2.0, 2.0999999999999943]\n",
            "key is 14 and v is [14.0, 14.199999999999989, 14.300000000000011, 65.0, 65.1]\n",
            "key is 15 and v is [15.0, 15.199999999999989, 15.300000000000011, 2.0, 2.0999999999999943]\n",
            "key is 16 and v is [16.0, 59.0, 59.099999999999994, 16.19999999999999, 59.19999999999999]\n",
            "key is 17 and v is [17.0, 17.19999999999999, 17.30000000000001, 32.0, 32.099999999999994]\n",
            "key is 18 and v is [18.0, 18.19999999999999, 18.30000000000001, 82.0, 82.1]\n",
            "key is 19 and v is [19.0, 19.19999999999999, 19.30000000000001, 5.0, 5.099999999999994]\n",
            "key is 20 and v is [20.0, 20.19999999999999, 20.30000000000001, 38.0, 38.099999999999994]\n",
            "key is 21 and v is [21.0, 21.19999999999999, 21.30000000000001, 35.0, 35.099999999999994]\n",
            "key is 22 and v is [22.0, 22.19999999999999, 22.30000000000001, 77.0, 77.1]\n",
            "key is 23 and v is [23.0, 23.19999999999999, 23.30000000000001, 54.0, 54.099999999999994]\n",
            "key is 24 and v is [24.0, 24.19999999999999, 24.30000000000001, 59.0, 59.099999999999994]\n",
            "key is 25 and v is [25.0, 25.19999999999999, 25.30000000000001, 47.0, 47.099999999999994]\n",
            "key is 26 and v is [26.0, 26.19999999999999, 26.30000000000001, 10.0, 10.099999999999994]\n",
            "key is 27 and v is [27.0, 27.19999999999999, 27.30000000000001, 28.0, 28.099999999999994]\n",
            "key is 28 and v is [28.0, 28.19999999999999, 28.30000000000001, 27.0, 27.099999999999994]\n",
            "key is 29 and v is [29.0, 29.19999999999999, 29.30000000000001, 84.0, 84.1]\n",
            "key is 30 and v is [30.0, 30.19999999999999, 30.30000000000001, 69.0, 69.1]\n",
            "key is 31 and v is [31.0, 31.19999999999999, 31.30000000000001, 41.0, 41.099999999999994]\n",
            "key is 32 and v is [32.0, 32.19999999999999, 32.30000000000001, 51.0, 51.099999999999994]\n",
            "key is 33 and v is [33.0, 33.19999999999999, 33.30000000000001, 90.0, 90.1]\n",
            "key is 34 and v is [34.0, 34.19999999999999, 34.30000000000001, 30.0, 30.099999999999994]\n",
            "key is 35 and v is [35.0, 35.19999999999999, 35.30000000000001, 76.0, 76.1]\n",
            "key is 36 and v is [36.0, 36.19999999999999, 36.30000000000001, 71.0, 71.1]\n",
            "key is 37 and v is [37.0, 37.19999999999999, 37.30000000000001, 55.0, 55.099999999999994]\n",
            "key is 38 and v is [38.0, 38.19999999999999, 38.30000000000001, 20.0, 20.099999999999994]\n",
            "key is 39 and v is [39.0, 39.19999999999999, 39.30000000000001, 63.0, 63.099999999999994]\n",
            "key is 40 and v is [40.0, 40.19999999999999, 40.30000000000001, 75.0, 75.1]\n",
            "key is 41 and v is [41.0, 41.19999999999999, 41.30000000000001, 63.0, 63.099999999999994]\n",
            "key is 42 and v is [42.0, 42.19999999999999, 42.30000000000001, 4.0, 4.099999999999994]\n",
            "key is 43 and v is [43.0, 43.19999999999999, 43.30000000000001, 40.0, 40.099999999999994]\n",
            "key is 44 and v is [44.0, 44.19999999999999, 44.30000000000001, 0.0, 0.09999999999999432]\n",
            "key is 45 and v is [45.0, 45.19999999999999, 45.30000000000001, 57.0, 57.099999999999994]\n",
            "key is 46 and v is [46.0, 46.19999999999999, 46.30000000000001, 85.0, 85.1]\n",
            "key is 47 and v is [47.0, 47.19999999999999, 47.30000000000001, 25.0, 25.099999999999994]\n",
            "key is 48 and v is [48.0, 48.19999999999999, 48.30000000000001, 81.0, 81.1]\n",
            "key is 49 and v is [49.0, 49.19999999999999, 49.30000000000001, 90.0, 90.1]\n",
            "key is 50 and v is [50.0, 50.19999999999999, 50.30000000000001, 9.0, 9.099999999999994]\n",
            "key is 51 and v is [51.0, 51.19999999999999, 51.30000000000001, 32.0, 32.099999999999994]\n",
            "key is 52 and v is [52.0, 52.19999999999999, 52.30000000000001, 26.0, 26.099999999999994]\n",
            "key is 53 and v is [53.0, 53.19999999999999, 53.30000000000001, 93.0, 93.1]\n",
            "key is 54 and v is [54.0, 54.19999999999999, 54.30000000000001, 12.0, 12.099999999999994]\n",
            "key is 55 and v is [55.0, 55.19999999999999, 55.30000000000001, 37.0, 37.099999999999994]\n",
            "key is 56 and v is [56.0, 56.19999999999999, 56.30000000000001, 8.0, 8.099999999999994]\n",
            "key is 57 and v is [57.0, 57.19999999999999, 57.30000000000001, 45.0, 45.099999999999994]\n",
            "key is 58 and v is [58.0, 58.19999999999999, 58.30000000000001, 79.0, 79.1]\n",
            "key is 59 and v is [59.0, 59.19999999999999, 59.30000000000001, 16.0, 16.099999999999994]\n",
            "key is 60 and v is [60.0, 60.19999999999999, 60.30000000000001, 49.0, 49.099999999999994]\n",
            "key is 61 and v is [61.0, 84.0, 84.1, 61.19999999999999, 84.19999999999999]\n",
            "key is 62 and v is [62.0, 62.19999999999999, 62.30000000000001, 1.0, 1.0999999999999943]\n",
            "key is 63 and v is [63.0, 63.19999999999999, 63.30000000000001, 41.0, 41.099999999999994]\n",
            "key is 64 and v is [64.0, 64.19999999999999, 64.30000000000001, 55.0, 55.099999999999994]\n",
            "key is 65 and v is [65.0, 65.19999999999999, 65.30000000000001, 98.0, 98.1]\n",
            "key is 66 and v is [66.0, 66.19999999999999, 66.30000000000001, 12.0, 12.099999999999994]\n",
            "key is 67 and v is [67.0, 67.19999999999999, 67.30000000000001, 87.0, 87.1]\n",
            "key is 68 and v is [68.0, 68.19999999999999, 68.30000000000001, 96.0, 96.1]\n",
            "key is 69 and v is [69.0, 69.19999999999999, 69.30000000000001, 87.0, 87.1]\n",
            "key is 70 and v is [70.0, 70.19999999999999, 70.30000000000001, 57.0, 57.099999999999994]\n",
            "key is 71 and v is [71.0, 71.19999999999999, 71.30000000000001, 36.0, 36.099999999999994]\n",
            "key is 72 and v is [72.0, 72.19999999999999, 72.30000000000001, 0.0, 0.09999999999999432]\n",
            "key is 73 and v is [73.0, 73.19999999999999, 73.30000000000001, 86.0, 86.1]\n",
            "key is 74 and v is [74.0, 74.19999999999999, 74.30000000000001, 79.0, 79.1]\n",
            "key is 75 and v is [75.0, 75.19999999999999, 75.30000000000001, 40.0, 40.099999999999994]\n",
            "key is 76 and v is [76.0, 76.19999999999999, 76.30000000000001, 35.0, 35.099999999999994]\n",
            "key is 77 and v is [77.0, 77.19999999999999, 77.30000000000001, 88.0, 88.1]\n",
            "key is 78 and v is [78.0, 78.19999999999999, 78.30000000000001, 17.0, 17.099999999999994]\n",
            "key is 79 and v is [79.0, 79.19999999999999, 79.30000000000001, 58.0, 58.099999999999994]\n",
            "key is 80 and v is [80.0, 80.19999999999999, 80.30000000000001, 47.0, 47.099999999999994]\n",
            "key is 81 and v is [81.0, 81.19999999999999, 81.30000000000001, 48.0, 48.099999999999994]\n",
            "key is 82 and v is [82.0, 82.19999999999999, 82.30000000000001, 18.0, 18.099999999999994]\n",
            "key is 83 and v is [83.0, 83.19999999999999, 83.30000000000001, 15.0, 15.099999999999994]\n",
            "key is 84 and v is [61.0, 84.0, 61.099999999999994, 61.19999999999999, 84.19999999999999]\n",
            "key is 85 and v is [85.0, 85.19999999999999, 85.30000000000001, 91.0, 91.1]\n",
            "key is 86 and v is [86.0, 86.19999999999999, 86.30000000000001, 23.0, 23.099999999999994]\n",
            "key is 87 and v is [87.0, 87.19999999999999, 87.30000000000001, 69.0, 69.1]\n",
            "key is 88 and v is [88.0, 88.19999999999999, 88.30000000000001, 77.0, 77.1]\n",
            "key is 89 and v is [89.0, 89.19999999999999, 89.30000000000001, 4.0, 4.099999999999994]\n",
            "key is 90 and v is [90.0, 90.19999999999999, 90.30000000000001, 49.0, 49.099999999999994]\n",
            "key is 91 and v is [91.0, 91.19999999999999, 91.30000000000001, 85.0, 85.1]\n",
            "key is 92 and v is [92.0, 92.19999999999999, 92.30000000000001, 7.0, 7.099999999999994]\n",
            "key is 93 and v is [93.0, 93.19999999999999, 93.30000000000001, 53.0, 53.099999999999994]\n",
            "key is 94 and v is [94.0, 94.19999999999999, 94.30000000000001, 43.0, 43.099999999999994]\n",
            "key is 95 and v is [95.0, 95.19999999999999, 95.30000000000001, 83.0, 83.1]\n",
            "key is 96 and v is [96.0, 96.19999999999999, 96.30000000000001, 68.0, 68.1]\n",
            "key is 97 and v is [97.0, 97.19999999999999, 97.30000000000001, 56.0, 56.099999999999994]\n",
            "key is 98 and v is [98.0, 98.19999999999999, 98.30000000000001, 48.0, 48.099999999999994]\n",
            "key is 99 and v is [99.0, 99.19999999999999, 99.30000000000001, 74.0, 74.1]\n",
            "key is 0 and v is [0.0, 0.09999999999999432, 0.30000000000001137, 72.0, 72.1]\n",
            "key is 1 and v is [1.0, 1.0999999999999943, 1.3000000000000114, 67.0, 67.1]\n",
            "key is 2 and v is [2.0, 2.0999999999999943, 2.3000000000000114, 15.0, 15.099999999999994]\n",
            "key is 3 and v is [3.0, 3.0999999999999943, 3.3000000000000114, 50.0, 50.099999999999994]\n",
            "key is 4 and v is [4.0, 4.099999999999994, 4.300000000000011, 89.0, 89.1]\n",
            "key is 5 and v is [5.0, 5.099999999999994, 5.300000000000011, 19.0, 19.099999999999994]\n",
            "key is 6 and v is [6.0, 6.099999999999994, 6.300000000000011, 61.0, 61.099999999999994]\n",
            "key is 7 and v is [7.0, 7.099999999999994, 7.300000000000011, 92.0, 92.1]\n",
            "key is 8 and v is [8.0, 8.099999999999994, 8.300000000000011, 72.0, 72.1]\n",
            "key is 9 and v is [9.0, 9.099999999999994, 9.300000000000011, 21.0, 21.099999999999994]\n",
            "key is 10 and v is [10.0, 10.099999999999994, 10.300000000000011, 26.0, 26.099999999999994]\n",
            "key is 11 and v is [11.0, 11.099999999999994, 11.300000000000011, 7.0, 7.099999999999994]\n",
            "key is 12 and v is [12.0, 12.099999999999994, 12.300000000000011, 66.0, 66.1]\n",
            "key is 13 and v is [13.0, 13.099999999999994, 13.300000000000011, 2.0, 2.0999999999999943]\n",
            "key is 14 and v is [14.0, 14.099999999999994, 14.300000000000011, 65.0, 65.1]\n",
            "key is 15 and v is [15.0, 15.099999999999994, 15.300000000000011, 2.0, 2.0999999999999943]\n",
            "key is 16 and v is [16.0, 59.0, 16.099999999999994, 59.099999999999994, 59.19999999999999]\n",
            "key is 17 and v is [17.0, 17.099999999999994, 17.30000000000001, 32.0, 32.099999999999994]\n",
            "key is 18 and v is [18.0, 18.099999999999994, 18.30000000000001, 82.0, 82.1]\n",
            "key is 19 and v is [19.0, 19.099999999999994, 19.30000000000001, 5.0, 5.099999999999994]\n",
            "key is 20 and v is [20.0, 20.099999999999994, 20.30000000000001, 38.0, 38.099999999999994]\n",
            "key is 21 and v is [21.0, 21.099999999999994, 21.30000000000001, 35.0, 35.099999999999994]\n",
            "key is 22 and v is [22.0, 22.099999999999994, 22.30000000000001, 77.0, 77.1]\n",
            "key is 23 and v is [23.0, 23.099999999999994, 23.30000000000001, 54.0, 54.099999999999994]\n",
            "key is 24 and v is [24.0, 24.099999999999994, 24.30000000000001, 59.0, 59.099999999999994]\n",
            "key is 25 and v is [25.0, 25.099999999999994, 25.30000000000001, 47.0, 47.099999999999994]\n",
            "key is 26 and v is [26.0, 26.099999999999994, 26.30000000000001, 10.0, 10.099999999999994]\n",
            "key is 27 and v is [27.0, 27.099999999999994, 27.30000000000001, 28.0, 28.099999999999994]\n",
            "key is 28 and v is [28.0, 28.099999999999994, 28.30000000000001, 27.0, 27.099999999999994]\n",
            "key is 29 and v is [29.0, 29.099999999999994, 29.30000000000001, 84.0, 84.1]\n",
            "key is 30 and v is [30.0, 30.099999999999994, 30.30000000000001, 69.0, 69.1]\n",
            "key is 31 and v is [31.0, 31.099999999999994, 31.30000000000001, 41.0, 41.099999999999994]\n",
            "key is 32 and v is [32.0, 32.099999999999994, 32.30000000000001, 51.0, 51.099999999999994]\n",
            "key is 33 and v is [33.0, 33.099999999999994, 33.30000000000001, 90.0, 90.1]\n",
            "key is 34 and v is [34.0, 34.099999999999994, 34.30000000000001, 30.0, 30.099999999999994]\n",
            "key is 35 and v is [35.0, 35.099999999999994, 35.30000000000001, 76.0, 76.1]\n",
            "key is 36 and v is [36.0, 36.099999999999994, 36.30000000000001, 71.0, 71.1]\n",
            "key is 37 and v is [37.0, 37.099999999999994, 37.30000000000001, 55.0, 55.099999999999994]\n",
            "key is 38 and v is [38.0, 38.099999999999994, 38.30000000000001, 20.0, 20.099999999999994]\n",
            "key is 39 and v is [39.0, 39.099999999999994, 39.30000000000001, 63.0, 63.099999999999994]\n",
            "key is 40 and v is [40.0, 40.099999999999994, 40.30000000000001, 75.0, 75.1]\n",
            "key is 41 and v is [41.0, 41.099999999999994, 41.30000000000001, 63.0, 63.099999999999994]\n",
            "key is 42 and v is [42.0, 42.099999999999994, 42.30000000000001, 4.0, 4.099999999999994]\n",
            "key is 43 and v is [43.0, 43.099999999999994, 43.30000000000001, 40.0, 40.099999999999994]\n",
            "key is 44 and v is [44.0, 44.099999999999994, 44.30000000000001, 0.0, 0.09999999999999432]\n",
            "key is 45 and v is [45.0, 45.099999999999994, 45.30000000000001, 57.0, 57.099999999999994]\n",
            "key is 46 and v is [46.0, 46.099999999999994, 46.30000000000001, 85.0, 85.1]\n",
            "key is 47 and v is [47.0, 47.099999999999994, 47.30000000000001, 25.0, 25.099999999999994]\n",
            "key is 48 and v is [48.0, 48.099999999999994, 48.30000000000001, 81.0, 81.1]\n",
            "key is 49 and v is [49.0, 49.099999999999994, 49.30000000000001, 90.0, 90.1]\n",
            "key is 50 and v is [50.0, 50.099999999999994, 50.30000000000001, 9.0, 9.099999999999994]\n",
            "key is 51 and v is [51.0, 51.099999999999994, 51.30000000000001, 32.0, 32.099999999999994]\n",
            "key is 52 and v is [52.0, 52.099999999999994, 52.30000000000001, 26.0, 26.099999999999994]\n",
            "key is 53 and v is [53.0, 53.099999999999994, 53.30000000000001, 93.0, 93.1]\n",
            "key is 54 and v is [54.0, 54.099999999999994, 54.30000000000001, 12.0, 12.099999999999994]\n",
            "key is 55 and v is [55.0, 55.099999999999994, 55.30000000000001, 37.0, 37.099999999999994]\n",
            "key is 56 and v is [56.0, 56.099999999999994, 56.30000000000001, 8.0, 8.099999999999994]\n",
            "key is 57 and v is [57.0, 57.099999999999994, 57.30000000000001, 45.0, 45.099999999999994]\n",
            "key is 58 and v is [58.0, 58.099999999999994, 58.30000000000001, 79.0, 79.1]\n",
            "key is 59 and v is [59.0, 59.099999999999994, 59.30000000000001, 16.0, 16.099999999999994]\n",
            "key is 60 and v is [60.0, 60.099999999999994, 60.30000000000001, 49.0, 49.099999999999994]\n",
            "key is 61 and v is [61.0, 84.0, 61.099999999999994, 84.1, 84.19999999999999]\n",
            "key is 62 and v is [62.0, 62.099999999999994, 62.30000000000001, 1.0, 1.0999999999999943]\n",
            "key is 63 and v is [63.0, 63.099999999999994, 63.30000000000001, 41.0, 41.099999999999994]\n",
            "key is 64 and v is [64.0, 64.1, 64.30000000000001, 55.0, 55.099999999999994]\n",
            "key is 65 and v is [65.0, 65.1, 65.30000000000001, 98.0, 98.1]\n",
            "key is 66 and v is [66.0, 66.1, 66.30000000000001, 12.0, 12.099999999999994]\n",
            "key is 67 and v is [67.0, 67.1, 67.30000000000001, 87.0, 87.1]\n",
            "key is 68 and v is [68.0, 68.1, 68.30000000000001, 96.0, 96.1]\n",
            "key is 69 and v is [69.0, 69.1, 69.30000000000001, 87.0, 87.1]\n",
            "key is 70 and v is [70.0, 70.1, 70.30000000000001, 57.0, 57.099999999999994]\n",
            "key is 71 and v is [71.0, 71.1, 71.30000000000001, 36.0, 36.099999999999994]\n",
            "key is 72 and v is [72.0, 72.1, 72.30000000000001, 0.0, 0.09999999999999432]\n",
            "key is 73 and v is [73.0, 73.1, 73.30000000000001, 86.0, 86.1]\n",
            "key is 74 and v is [74.0, 74.1, 74.30000000000001, 79.0, 79.1]\n",
            "key is 75 and v is [75.0, 75.1, 75.30000000000001, 40.0, 40.099999999999994]\n",
            "key is 76 and v is [76.0, 76.1, 76.30000000000001, 35.0, 35.099999999999994]\n",
            "key is 77 and v is [77.0, 77.1, 77.30000000000001, 88.0, 88.1]\n",
            "key is 78 and v is [78.0, 78.1, 78.30000000000001, 17.0, 17.099999999999994]\n",
            "key is 79 and v is [79.0, 79.1, 79.30000000000001, 58.0, 58.099999999999994]\n",
            "key is 80 and v is [80.0, 80.1, 80.30000000000001, 47.0, 47.099999999999994]\n",
            "key is 81 and v is [81.0, 81.1, 81.30000000000001, 48.0, 48.099999999999994]\n",
            "key is 82 and v is [82.0, 82.1, 82.30000000000001, 18.0, 18.099999999999994]\n",
            "key is 83 and v is [83.0, 83.1, 83.30000000000001, 15.0, 15.099999999999994]\n",
            "key is 84 and v is [61.0, 84.0, 61.099999999999994, 84.1, 61.19999999999999]\n",
            "key is 85 and v is [85.0, 85.1, 85.30000000000001, 91.0, 91.1]\n",
            "key is 86 and v is [86.0, 86.1, 86.30000000000001, 23.0, 23.099999999999994]\n",
            "key is 87 and v is [87.0, 87.1, 87.30000000000001, 69.0, 69.1]\n",
            "key is 88 and v is [88.0, 88.1, 88.30000000000001, 77.0, 77.1]\n",
            "key is 89 and v is [89.0, 89.1, 89.30000000000001, 4.0, 4.099999999999994]\n",
            "key is 90 and v is [90.0, 90.1, 90.30000000000001, 49.0, 49.099999999999994]\n",
            "key is 91 and v is [91.0, 91.1, 91.30000000000001, 85.0, 85.1]\n",
            "key is 92 and v is [92.0, 92.1, 92.30000000000001, 7.0, 7.099999999999994]\n",
            "key is 93 and v is [93.0, 93.1, 93.30000000000001, 53.0, 53.099999999999994]\n",
            "key is 94 and v is [94.0, 94.1, 94.30000000000001, 43.0, 43.099999999999994]\n",
            "key is 95 and v is [95.0, 95.1, 95.30000000000001, 83.0, 83.1]\n",
            "key is 96 and v is [96.0, 96.1, 96.30000000000001, 68.0, 68.1]\n",
            "key is 97 and v is [97.0, 97.1, 97.30000000000001, 56.0, 56.099999999999994]\n",
            "key is 98 and v is [98.0, 98.1, 98.30000000000001, 48.0, 48.099999999999994]\n",
            "key is 99 and v is [99.0, 99.1, 99.30000000000001, 74.0, 74.1]\n",
            "key is 0 and v is [0.0, 0.09999999999999432, 0.19999999999998863, 72.0, 72.1]\n",
            "key is 1 and v is [1.0, 1.0999999999999943, 1.1999999999999886, 67.0, 67.1]\n",
            "key is 2 and v is [2.0, 2.0999999999999943, 2.1999999999999886, 15.0, 15.099999999999994]\n",
            "key is 3 and v is [3.0, 3.0999999999999943, 3.1999999999999886, 50.0, 50.099999999999994]\n",
            "key is 4 and v is [4.0, 4.099999999999994, 4.199999999999989, 89.0, 89.1]\n",
            "key is 5 and v is [5.0, 5.099999999999994, 5.199999999999989, 19.0, 19.099999999999994]\n",
            "key is 6 and v is [6.0, 6.099999999999994, 6.199999999999989, 61.0, 61.099999999999994]\n",
            "key is 7 and v is [7.0, 7.099999999999994, 7.199999999999989, 92.0, 92.1]\n",
            "key is 8 and v is [8.0, 8.099999999999994, 8.199999999999989, 72.0, 72.1]\n",
            "key is 9 and v is [9.0, 9.099999999999994, 9.199999999999989, 21.0, 21.099999999999994]\n",
            "key is 10 and v is [10.0, 10.099999999999994, 10.199999999999989, 26.0, 26.099999999999994]\n",
            "key is 11 and v is [11.0, 11.099999999999994, 11.199999999999989, 7.0, 7.099999999999994]\n",
            "key is 12 and v is [12.0, 12.099999999999994, 12.199999999999989, 66.0, 66.1]\n",
            "key is 13 and v is [13.0, 13.099999999999994, 13.199999999999989, 2.0, 2.0999999999999943]\n",
            "key is 14 and v is [14.0, 14.099999999999994, 14.199999999999989, 65.0, 65.1]\n",
            "key is 15 and v is [15.0, 15.099999999999994, 15.199999999999989, 2.0, 2.0999999999999943]\n",
            "key is 16 and v is [16.0, 59.0, 16.099999999999994, 59.099999999999994, 16.19999999999999]\n",
            "key is 17 and v is [17.0, 17.099999999999994, 17.19999999999999, 32.0, 32.099999999999994]\n",
            "key is 18 and v is [18.0, 18.099999999999994, 18.19999999999999, 82.0, 82.1]\n",
            "key is 19 and v is [19.0, 19.099999999999994, 19.19999999999999, 5.0, 5.099999999999994]\n",
            "key is 20 and v is [20.0, 20.099999999999994, 20.19999999999999, 38.0, 38.099999999999994]\n",
            "key is 21 and v is [21.0, 21.099999999999994, 21.19999999999999, 35.0, 35.099999999999994]\n",
            "key is 22 and v is [22.0, 22.099999999999994, 22.19999999999999, 77.0, 77.1]\n",
            "key is 23 and v is [23.0, 23.099999999999994, 23.19999999999999, 54.0, 54.099999999999994]\n",
            "key is 24 and v is [24.0, 24.099999999999994, 24.19999999999999, 59.0, 59.099999999999994]\n",
            "key is 25 and v is [25.0, 25.099999999999994, 25.19999999999999, 47.0, 47.099999999999994]\n",
            "key is 26 and v is [26.0, 26.099999999999994, 26.19999999999999, 10.0, 10.099999999999994]\n",
            "key is 27 and v is [27.0, 27.099999999999994, 27.19999999999999, 28.0, 28.099999999999994]\n",
            "key is 28 and v is [28.0, 28.099999999999994, 28.19999999999999, 27.0, 27.099999999999994]\n",
            "key is 29 and v is [29.0, 29.099999999999994, 29.19999999999999, 84.0, 84.1]\n",
            "key is 30 and v is [30.0, 30.099999999999994, 30.19999999999999, 69.0, 69.1]\n",
            "key is 31 and v is [31.0, 31.099999999999994, 31.19999999999999, 41.0, 41.099999999999994]\n",
            "key is 32 and v is [32.0, 32.099999999999994, 32.19999999999999, 51.0, 51.099999999999994]\n",
            "key is 33 and v is [33.0, 33.099999999999994, 33.19999999999999, 90.0, 90.1]\n",
            "key is 34 and v is [34.0, 34.099999999999994, 34.19999999999999, 30.0, 30.099999999999994]\n",
            "key is 35 and v is [35.0, 35.099999999999994, 35.19999999999999, 76.0, 76.1]\n",
            "key is 36 and v is [36.0, 36.099999999999994, 36.19999999999999, 71.0, 71.1]\n",
            "key is 37 and v is [37.0, 37.099999999999994, 37.19999999999999, 55.0, 55.099999999999994]\n",
            "key is 38 and v is [38.0, 38.099999999999994, 38.19999999999999, 20.0, 20.099999999999994]\n",
            "key is 39 and v is [39.0, 39.099999999999994, 39.19999999999999, 63.0, 63.099999999999994]\n",
            "key is 40 and v is [40.0, 40.099999999999994, 40.19999999999999, 75.0, 75.1]\n",
            "key is 41 and v is [41.0, 41.099999999999994, 41.19999999999999, 63.0, 63.099999999999994]\n",
            "key is 42 and v is [42.0, 42.099999999999994, 42.19999999999999, 4.0, 4.099999999999994]\n",
            "key is 43 and v is [43.0, 43.099999999999994, 43.19999999999999, 40.0, 40.099999999999994]\n",
            "key is 44 and v is [44.0, 44.099999999999994, 44.19999999999999, 0.0, 0.09999999999999432]\n",
            "key is 45 and v is [45.0, 45.099999999999994, 45.19999999999999, 57.0, 57.099999999999994]\n",
            "key is 46 and v is [46.0, 46.099999999999994, 46.19999999999999, 85.0, 85.1]\n",
            "key is 47 and v is [47.0, 47.099999999999994, 47.19999999999999, 25.0, 25.099999999999994]\n",
            "key is 48 and v is [48.0, 48.099999999999994, 48.19999999999999, 81.0, 81.1]\n",
            "key is 49 and v is [49.0, 49.099999999999994, 49.19999999999999, 90.0, 90.1]\n",
            "key is 50 and v is [50.0, 50.099999999999994, 50.19999999999999, 9.0, 9.099999999999994]\n",
            "key is 51 and v is [51.0, 51.099999999999994, 51.19999999999999, 32.0, 32.099999999999994]\n",
            "key is 52 and v is [52.0, 52.099999999999994, 52.19999999999999, 26.0, 26.099999999999994]\n",
            "key is 53 and v is [53.0, 53.099999999999994, 53.19999999999999, 93.0, 93.1]\n",
            "key is 54 and v is [54.0, 54.099999999999994, 54.19999999999999, 12.0, 12.099999999999994]\n",
            "key is 55 and v is [55.0, 55.099999999999994, 55.19999999999999, 37.0, 37.099999999999994]\n",
            "key is 56 and v is [56.0, 56.099999999999994, 56.19999999999999, 8.0, 8.099999999999994]\n",
            "key is 57 and v is [57.0, 57.099999999999994, 57.19999999999999, 45.0, 45.099999999999994]\n",
            "key is 58 and v is [58.0, 58.099999999999994, 58.19999999999999, 79.0, 79.1]\n",
            "key is 59 and v is [59.0, 59.099999999999994, 59.19999999999999, 16.0, 16.099999999999994]\n",
            "key is 60 and v is [60.0, 60.099999999999994, 60.19999999999999, 49.0, 49.099999999999994]\n",
            "key is 61 and v is [61.0, 84.0, 61.099999999999994, 84.1, 61.19999999999999]\n",
            "key is 62 and v is [62.0, 62.099999999999994, 62.19999999999999, 1.0, 1.0999999999999943]\n",
            "key is 63 and v is [63.0, 63.099999999999994, 63.19999999999999, 41.0, 41.099999999999994]\n",
            "key is 64 and v is [64.0, 64.1, 64.19999999999999, 55.0, 55.099999999999994]\n",
            "key is 65 and v is [65.0, 65.1, 65.19999999999999, 98.0, 98.1]\n",
            "key is 66 and v is [66.0, 66.1, 66.19999999999999, 12.0, 12.099999999999994]\n",
            "key is 67 and v is [67.0, 67.1, 67.19999999999999, 87.0, 87.1]\n",
            "key is 68 and v is [68.0, 68.1, 68.19999999999999, 96.0, 96.1]\n",
            "key is 69 and v is [69.0, 69.1, 69.19999999999999, 87.0, 87.1]\n",
            "key is 70 and v is [70.0, 70.1, 70.19999999999999, 57.0, 57.099999999999994]\n",
            "key is 71 and v is [71.0, 71.1, 71.19999999999999, 36.0, 36.099999999999994]\n",
            "key is 72 and v is [72.0, 72.1, 72.19999999999999, 0.0, 0.09999999999999432]\n",
            "key is 73 and v is [73.0, 73.1, 73.19999999999999, 86.0, 86.1]\n",
            "key is 74 and v is [74.0, 74.1, 74.19999999999999, 79.0, 79.1]\n",
            "key is 75 and v is [75.0, 75.1, 75.19999999999999, 40.0, 40.099999999999994]\n",
            "key is 76 and v is [76.0, 76.1, 76.19999999999999, 35.0, 35.099999999999994]\n",
            "key is 77 and v is [77.0, 77.1, 77.19999999999999, 88.0, 88.1]\n",
            "key is 78 and v is [78.0, 78.1, 78.19999999999999, 17.0, 17.099999999999994]\n",
            "key is 79 and v is [79.0, 79.1, 79.19999999999999, 58.0, 58.099999999999994]\n",
            "key is 80 and v is [80.0, 80.1, 80.19999999999999, 47.0, 47.099999999999994]\n",
            "key is 81 and v is [81.0, 81.1, 81.19999999999999, 48.0, 48.099999999999994]\n",
            "key is 82 and v is [82.0, 82.1, 82.19999999999999, 18.0, 18.099999999999994]\n",
            "key is 83 and v is [83.0, 83.1, 83.19999999999999, 15.0, 15.099999999999994]\n",
            "key is 84 and v is [61.0, 84.0, 61.099999999999994, 84.1, 61.19999999999999]\n",
            "key is 85 and v is [85.0, 85.1, 85.19999999999999, 91.0, 91.1]\n",
            "key is 86 and v is [86.0, 86.1, 86.19999999999999, 23.0, 23.099999999999994]\n",
            "key is 87 and v is [87.0, 87.1, 87.19999999999999, 69.0, 69.1]\n",
            "key is 88 and v is [88.0, 88.1, 88.19999999999999, 77.0, 77.1]\n",
            "key is 89 and v is [89.0, 89.1, 89.19999999999999, 4.0, 4.099999999999994]\n",
            "key is 90 and v is [90.0, 90.1, 90.19999999999999, 49.0, 49.099999999999994]\n",
            "key is 91 and v is [91.0, 91.1, 91.19999999999999, 85.0, 85.1]\n",
            "key is 92 and v is [92.0, 92.1, 92.19999999999999, 7.0, 7.099999999999994]\n",
            "key is 93 and v is [93.0, 93.1, 93.19999999999999, 53.0, 53.099999999999994]\n",
            "key is 94 and v is [94.0, 94.1, 94.19999999999999, 43.0, 43.099999999999994]\n",
            "key is 95 and v is [95.0, 95.1, 95.19999999999999, 83.0, 83.1]\n",
            "key is 96 and v is [96.0, 96.1, 96.19999999999999, 68.0, 68.1]\n",
            "key is 97 and v is [97.0, 97.1, 97.19999999999999, 56.0, 56.099999999999994]\n",
            "key is 98 and v is [98.0, 98.1, 98.19999999999999, 48.0, 48.099999999999994]\n",
            "key is 99 and v is [99.0, 99.1, 99.19999999999999, 74.0, 74.1]\n"
          ]
        }
      ]
    },
    {
      "cell_type": "markdown",
      "source": [
        "각 장르별로 유사 5곡 매핑하는 딕셔너리 저장"
      ],
      "metadata": {
        "id": "diVUinerH8Zt"
      }
    },
    {
      "cell_type": "code",
      "source": [
        "with open('classical_top_5_similar.pkl', 'wb') as ff:\n",
        "    pickle.dump(classical_top_5_similar, ff)\n",
        "with open('rock_top_5_similar.pkl', 'wb') as ff:\n",
        "    pickle.dump(rock_top_5_similar, ff)\n",
        "with open('pop_top_5_similar.pkl', 'wb') as ff:\n",
        "    pickle.dump(pop_top_5_similar, ff)\n",
        "with open('electronic_top_5_similar.pkl', 'wb') as ff:\n",
        "    pickle.dump(electronic_top_5_similar, ff)"
      ],
      "metadata": {
        "id": "zQpuclWFzjkE"
      },
      "execution_count": null,
      "outputs": []
    },
    {
      "cell_type": "markdown",
      "source": [
        "메인 모델"
      ],
      "metadata": {
        "id": "qfSZ775ZInrI"
      }
    },
    {
      "cell_type": "code",
      "source": [
        "class DNN(nn.Module):\n",
        "    def __init__(self, input_size, hidden_size, num_hidden_layers, dropout=0.1):\n",
        "        super().__init__()\n",
        "        self.layers = nn.Sequential(\n",
        "            nn.Linear(input_size, 64),\n",
        "            nn.ReLU(),\n",
        "            *[nn.Sequential(nn.Linear(64, 64), nn.ReLU(), nn.Dropout(dropout)) for _ in range(num_hidden_layers)],\n",
        "            nn.Linear(64, hidden_size),\n",
        "        )\n",
        "    def forward(self, x):\n",
        "        return self.layers(x)\n",
        "\n",
        "class Score(nn.Module):\n",
        "    def __init__(self, d_k):\n",
        "        super().__init__()\n",
        "\n",
        "        self.layers = nn.Sequential(\n",
        "            nn.Linear(d_k, d_k),\n",
        "            nn.Sigmoid(),\n",
        "            nn.Linear(d_k, 1),\n",
        "        )\n",
        "\n",
        "    def forward(self, x):\n",
        "        return self.layers(x)\n",
        "\n",
        "class MultiHeadAttention(nn.Module):\n",
        "    def __init__(self, d_model, num_heads, dropout=0.1):\n",
        "        super().__init__()\n",
        "\n",
        "        self.num_heads = num_heads\n",
        "        self.d_k = d_model // num_heads\n",
        "        self.linear = nn.Linear(d_model, d_model)\n",
        "        self.l_to_score, self.s_to_score, self.zl_to_score, self.zs_to_score = [Score(self.d_k) for _ in range(4)]\n",
        "        self.dropout = nn.Dropout(dropout)\n",
        "\n",
        "    def split_heads(self, x,):\n",
        "        return x.view(-1, self.num_heads, self.d_k)\n",
        "\n",
        "    def group_heads(self, x,):\n",
        "        return x.contiguous().view(-1, self.num_heads * self.d_k)\n",
        "\n",
        "    def summing_scores(self, scores, original):\n",
        "        stacked_scores = torch.stack([scores[k] * original[k] for k in scores.keys()])\n",
        "        return torch.sum(stacked_scores, dim=0)\n",
        "\n",
        "    def forward(self, user_embedded, mood_embedded, Genre_embedded):\n",
        "\n",
        "        L = {u_key + '_' + s_key: self.split_heads(u_value * s_value)/np.sqrt(self.d_k) for u_key, u_value in user_embedded.items() for s_key, s_value in Genre_embedded.items()}\n",
        "        L_score = {key: self.l_to_score(value) for key,value in L.items()}\n",
        "\n",
        "        S = {m_key + '_' + s_key: self.split_heads(m_value * s_value)/np.sqrt(self.d_k) for m_key, m_value in mood_embedded.items() for s_key, s_value in Genre_embedded.items()}\n",
        "        S_score = {key: self.s_to_score(value) for key,value in S.items()}\n",
        "\n",
        "        L_att = self.summing_scores(L_score, L)\n",
        "        S_att = self.summing_scores(S_score, S)\n",
        "\n",
        "        rl = self.zl_to_score(L_att)\n",
        "        rs = self.zs_to_score(S_att)\n",
        "        r = torch.cat([rl, rs], dim=-1)\n",
        "\n",
        "        r = f.softmax(r, dim=-1)\n",
        "        rl, rs = r.chunk(2, dim=-1)\n",
        "\n",
        "        out = rl * L_att + rs * S_att\n",
        "\n",
        "        out = self.group_heads(out)\n",
        "\n",
        "        out = self.linear(out)\n",
        "\n",
        "        return out, rl, rs\n",
        "\n",
        "class Embeddings(nn.Module):\n",
        "    def __init__(self, d_model, input_size, dropout=0.1):\n",
        "        super().__init__()\n",
        "        self.linear = nn.Linear(input_size, d_model)\n",
        "        self.LayerNorm = nn.LayerNorm(d_model, eps=1e-12)\n",
        "        self.dropout = nn.Dropout(dropout)\n",
        "\n",
        "    def forward(self, input):\n",
        "        linear_output = self.linear(input)\n",
        "        embeddings = self.dropout(self.LayerNorm(linear_output))\n",
        "        return embeddings\n",
        "\n",
        "class Embedder(nn.Module):\n",
        "    def __init__(self, d_model, user_keys, mood_keys, Genre_keys):\n",
        "        super().__init__()\n",
        "\n",
        "        self.user_embeddings = nn.ModuleDict({k: Embeddings(d_model, 1) for k in user_keys})\n",
        "        self.mood_embeddings = nn.ModuleDict({k: Embeddings(d_model, 1) for k in mood_keys})\n",
        "        self.Genre_embeddings = nn.ModuleDict({k: Embeddings(d_model, 1) for k in Genre_keys})\n",
        "\n",
        "    def forward(self, user, mood, Genre):\n",
        "        user_embedded = {k: emb(user[k]) for k, emb in self.user_embeddings.items()}\n",
        "        mood_embedded = {k: emb(mood[k]) for k, emb in self.mood_embeddings.items()}\n",
        "        Genre_embedded = {k: emb(Genre[k]) for k, emb in self.Genre_embeddings.items()}\n",
        "\n",
        "        return user_embedded, mood_embedded, Genre_embedded\n",
        "\n",
        "class TransformerClassifier(nn.Module):\n",
        "    def __init__(self, d_model, num_heads, user_keys, mood_keys, Genre_keys, num_hidden_layers, dropout=0.1):\n",
        "        super().__init__()\n",
        "\n",
        "        self.mother_tongue_pre_embed = nn.Embedding(num_embeddings=40, embedding_dim=1)\n",
        "        self.all_keys_number = len(user_keys)+len(mood_keys)+len(Genre_keys)\n",
        "\n",
        "        self.embedder = Embedder(d_model,user_keys, mood_keys, Genre_keys)\n",
        "        self.mha = MultiHeadAttention(d_model, num_heads)\n",
        "        self.dnn = DNN(self.all_keys_number*d_model, d_model, num_hidden_layers)\n",
        "\n",
        "        self.W_zd = nn.Linear(d_model, 10, bias=False)\n",
        "        self.W_z0 = nn.Linear(self.all_keys_number, 10, bias=False)\n",
        "        self.W_zatt = nn.Linear(d_model, 10, bias=False)\n",
        "\n",
        "        self.bias = nn.Parameter(torch.zeros(10))\n",
        "\n",
        "    def forward(self, user, mood, Genre):\n",
        "        for k in user.keys():\n",
        "          user[k] = user[k].unsqueeze(1)\n",
        "        for k in mood.keys():\n",
        "          mood[k] = mood[k].unsqueeze(1)\n",
        "        for k in Genre.keys():\n",
        "          Genre[k] = Genre[k].unsqueeze(1)\n",
        "\n",
        "        user['mother tongue'] = self.mother_tongue_pre_embed(user['mother tongue']).squeeze(1)\n",
        "\n",
        "        user_embedded, mood_embedded, Genre_embedded = self.embedder(user, mood, Genre)\n",
        "\n",
        "        all_embedded_values = torch.cat([*user_embedded.values(), *mood_embedded.values(), *Genre_embedded.values()], dim=1)\n",
        "\n",
        "        zd = self.dnn(all_embedded_values)\n",
        "\n",
        "        z0 = torch.cat((*user.values(),  *mood.values(), *Genre.values()), dim=1)\n",
        "\n",
        "        zatt, rl, rs = self.mha(user_embedded,mood_embedded, Genre_embedded)\n",
        "\n",
        "        out = torch.sigmoid(self.W_zd(zd) + self.W_z0(z0) + self.W_zatt(zatt) + self.bias)\n",
        "\n",
        "        return out"
      ],
      "metadata": {
        "id": "ecHCTIi_0FaL"
      },
      "execution_count": 17,
      "outputs": []
    },
    {
      "cell_type": "markdown",
      "source": [
        "모델에 넣을 데이터를 custom dataset에 넣어서 관리"
      ],
      "metadata": {
        "id": "gwVSlJNrly6N"
      }
    },
    {
      "cell_type": "code",
      "source": [
        "class MusicDataset(torch.utils.data.Dataset):\n",
        "    def __init__(self, user, mood, Genre, preference, emotion):\n",
        "        self.input_data = {'user': user, 'mood': mood, 'Genre': Genre}\n",
        "        self.label_data = {'preference': preference, 'emotion':emotion}\n",
        "\n",
        "    def __getitem__(self, index):\n",
        "        input_data = {k: {sub_k: v[sub_k][index] for sub_k in v.keys()} for k, v in self.input_data.items()}\n",
        "        label_data = {k: {sub_k: v[sub_k][index] for sub_k in v.keys()} for k, v in self.label_data.items()}\n",
        "        return input_data, label_data\n",
        "\n",
        "\n",
        "    def __len__(self):\n",
        "        return len(next(iter(self.input_data['user'].values())))"
      ],
      "metadata": {
        "id": "wNe6rxO8BU4g"
      },
      "execution_count": 18,
      "outputs": []
    },
    {
      "cell_type": "code",
      "source": [
        "for k in preference.keys():\n",
        "    preference[k] = preference[k].unsqueeze(1)\n",
        "for k in emotion.keys():\n",
        "  emotion[k] = emotion[k].unsqueeze(1)"
      ],
      "metadata": {
        "id": "BJ15GJmsb9Kl"
      },
      "execution_count": 19,
      "outputs": []
    },
    {
      "cell_type": "markdown",
      "source": [
        "논문에선 batch_size = 512지만\n",
        "\n",
        "데이터 양이 user의 경우 20배, music_track은 900배 가량 차이\n",
        "\n",
        "차이를 보정하기 위해 16으로 축소"
      ],
      "metadata": {
        "id": "2X1mYtTwtCIR"
      }
    },
    {
      "cell_type": "code",
      "source": [
        "batch_size = 16\n",
        "model = TransformerClassifier(d_model=32, num_heads=2, user_keys=user.keys(), mood_keys=mood.keys(), Genre_keys = Genre.keys(), num_hidden_layers=2).to(device)\n",
        "optimizer = torch.optim.Adam(model.parameters(), lr=0.001, weight_decay=1e-2)\n",
        "mse_loss = nn.MSELoss()\n",
        "bce_loss = nn.BCEWithLogitsLoss()\n",
        "\n",
        "combined_loss = nn.BCEWithLogitsLoss()\n",
        "\n",
        "scheduler = torch.optim.lr_scheduler.StepLR(optimizer, step_size=10, gamma=0.1)\n",
        "\n",
        "music_dataset = MusicDataset(user, mood, Genre, preference, emotion)\n",
        "\n",
        "train_size = int(0.8 * len(music_dataset))\n",
        "valid_size = len(music_dataset) - train_size\n",
        "train_dataset, valid_dataset = torch.utils.data.random_split(music_dataset, [train_size, valid_size])\n",
        "\n",
        "train_dataloader = DataLoader(train_dataset, batch_size=batch_size, shuffle=True)\n",
        "valid_dataloader = DataLoader(valid_dataset, batch_size=batch_size, shuffle=True)"
      ],
      "metadata": {
        "id": "UutTDS54PWz3"
      },
      "execution_count": 20,
      "outputs": []
    },
    {
      "cell_type": "markdown",
      "source": [
        "배치 shape 확인"
      ],
      "metadata": {
        "id": "zOJdqP5NekNJ"
      }
    },
    {
      "cell_type": "code",
      "source": [
        "data_batch, label_batch = next(iter(train_dataloader))\n",
        "\n",
        "for key in data_batch.keys():\n",
        "    for sub_key in data_batch[key].keys():\n",
        "        print(f\"{key}'s {sub_key} shape: {data_batch[key][sub_key].shape}\")\n",
        "\n",
        "for key in label_batch.keys():\n",
        "    for sub_key in label_batch[key].keys():\n",
        "        print(f\"{key}'s {sub_key} shape: {label_batch[key][sub_key].shape}\")"
      ],
      "metadata": {
        "id": "l6tdCulWl-WF",
        "colab": {
          "base_uri": "https://localhost:8080/"
        },
        "outputId": "34117638-ee76-4aac-f641-570c2b5f360a"
      },
      "execution_count": 21,
      "outputs": [
        {
          "output_type": "stream",
          "name": "stdout",
          "text": [
            "user's age shape: torch.Size([16])\n",
            "user's gender shape: torch.Size([16])\n",
            "user's mother tongue shape: torch.Size([16])\n",
            "mood's mood shape: torch.Size([16])\n",
            "Genre's genre1 shape: torch.Size([16])\n",
            "Genre's genre2 shape: torch.Size([16])\n",
            "preference's pref shape: torch.Size([16, 1])\n",
            "emotion's amazement shape: torch.Size([16, 1])\n",
            "emotion's solemnity shape: torch.Size([16, 1])\n",
            "emotion's tenderness shape: torch.Size([16, 1])\n",
            "emotion's nostalgia shape: torch.Size([16, 1])\n",
            "emotion's calmness shape: torch.Size([16, 1])\n",
            "emotion's power shape: torch.Size([16, 1])\n",
            "emotion's joyful_activation shape: torch.Size([16, 1])\n",
            "emotion's tension shape: torch.Size([16, 1])\n",
            "emotion's sadness shape: torch.Size([16, 1])\n"
          ]
        }
      ]
    },
    {
      "cell_type": "code",
      "source": [
        "def get_correct_predictions(pred, labels):\n",
        "    pred_binary = (pred > 0.5).float()\n",
        "    correct = (pred_binary == labels).sum()\n",
        "    return correct/10\n",
        "\n",
        "\n",
        "def train_model(model, dataloader, optimizer, combined_loss):\n",
        "    model.train()\n",
        "    running_loss = 0.0\n",
        "    total_correct = 0\n",
        "    total = 0\n",
        "\n",
        "    for data, labels in dataloader:\n",
        "\n",
        "        preference = labels['preference']\n",
        "        emotion = labels['emotion']\n",
        "\n",
        "        optimizer.zero_grad()\n",
        "\n",
        "\n",
        "        output = model(data['user'], data['mood'], data['Genre'])\n",
        "\n",
        "        preference = torch.cat([preference[key] for key in preference], dim=1)\n",
        "        emotion = torch.cat([emotion[key] for key in emotion], dim=1)\n",
        "        label = torch.cat((preference,emotion), dim=1)\n",
        "\n",
        "        loss = combined_loss(output, label)\n",
        "        loss.backward()\n",
        "        optimizer.step()\n",
        "\n",
        "        running_loss += loss\n",
        "\n",
        "        total_correct += get_correct_predictions(output, label)\n",
        "        total += preference.size(0)\n",
        "\n",
        "    epoch_loss = running_loss / len(dataloader)\n",
        "    epoch_acc = total_correct / total\n",
        "\n",
        "    return epoch_loss, epoch_acc\n",
        "\n",
        "def validate_model(model, dataloader, combined_loss):\n",
        "    model.eval()\n",
        "    running_loss = 0.0\n",
        "    total_correct = 0\n",
        "    total = 0\n",
        "\n",
        "    with torch.no_grad():\n",
        "        for data, labels in dataloader:\n",
        "            preference = labels['preference']\n",
        "            emotion = labels['emotion']\n",
        "\n",
        "            output = model(data['user'], data['mood'], data['Genre'])\n",
        "\n",
        "            preference = torch.cat([preference[key] for key in preference], dim=1)\n",
        "            emotion = torch.cat([emotion[key] for key in emotion], dim=1)\n",
        "            label = torch.cat((preference,emotion), dim=1)\n",
        "\n",
        "            loss = combined_loss(output, label)\n",
        "\n",
        "            running_loss += loss\n",
        "\n",
        "            total_correct += get_correct_predictions(output, label)\n",
        "            total += preference.size(0)\n",
        "\n",
        "    epoch_loss = running_loss / len(dataloader)\n",
        "    epoch_acc = total_correct / total\n",
        "\n",
        "    return epoch_loss, epoch_acc"
      ],
      "metadata": {
        "id": "WXQoaPXNaC4P"
      },
      "execution_count": 22,
      "outputs": []
    },
    {
      "cell_type": "code",
      "source": [
        "epochs = 100\n",
        "for epoch in range(epochs):\n",
        "\n",
        "    train_loss, train_acc = train_model(model, train_dataloader, optimizer, combined_loss)\n",
        "    valid_loss, valid_acc = validate_model(model, valid_dataloader, combined_loss)\n",
        "\n",
        "    print(f'Epoch: {epoch+1}/{epochs}.. ')\n",
        "    print(f'Train Loss: {train_loss:.4f}.. Train Acc : {train_acc:.4f}')\n",
        "    print(f'Valid Loss: {valid_loss:.4f}.. Valid Acc : {valid_acc:.4f}')\n",
        "\n",
        "    scheduler.step()"
      ],
      "metadata": {
        "id": "NwIigp1vHNBK",
        "colab": {
          "base_uri": "https://localhost:8080/",
          "height": 836
        },
        "outputId": "f854226c-e93c-436c-9d81-5fa2387231e6"
      },
      "execution_count": 23,
      "outputs": [
        {
          "output_type": "stream",
          "name": "stdout",
          "text": [
            "Epoch: 1/100.. \n",
            "Train Loss: 1.3141.. Train Acc : 0.7009\n",
            "Valid Loss: 1.2552.. Valid Acc : 0.7530\n",
            "Epoch: 2/100.. \n",
            "Train Loss: 1.2644.. Train Acc : 0.7479\n",
            "Valid Loss: 1.2492.. Valid Acc : 0.7529\n",
            "Epoch: 3/100.. \n",
            "Train Loss: 1.2617.. Train Acc : 0.7478\n",
            "Valid Loss: 1.2462.. Valid Acc : 0.7528\n",
            "Epoch: 4/100.. \n",
            "Train Loss: 1.2602.. Train Acc : 0.7477\n",
            "Valid Loss: 1.2526.. Valid Acc : 0.7531\n",
            "Epoch: 5/100.. \n",
            "Train Loss: 1.2586.. Train Acc : 0.7477\n",
            "Valid Loss: 1.2459.. Valid Acc : 0.7528\n",
            "Epoch: 6/100.. \n",
            "Train Loss: 1.2557.. Train Acc : 0.7477\n",
            "Valid Loss: 1.2423.. Valid Acc : 0.7526\n",
            "Epoch: 7/100.. \n",
            "Train Loss: 1.2547.. Train Acc : 0.7476\n",
            "Valid Loss: 1.2427.. Valid Acc : 0.7525\n",
            "Epoch: 8/100.. \n",
            "Train Loss: 1.2537.. Train Acc : 0.7477\n",
            "Valid Loss: 1.2429.. Valid Acc : 0.7528\n"
          ]
        },
        {
          "output_type": "error",
          "ename": "KeyboardInterrupt",
          "evalue": "ignored",
          "traceback": [
            "\u001b[0;31m---------------------------------------------------------------------------\u001b[0m",
            "\u001b[0;31mKeyboardInterrupt\u001b[0m                         Traceback (most recent call last)",
            "\u001b[0;32m<ipython-input-23-d435bf0773f3>\u001b[0m in \u001b[0;36m<cell line: 2>\u001b[0;34m()\u001b[0m\n\u001b[1;32m      2\u001b[0m \u001b[0;32mfor\u001b[0m \u001b[0mepoch\u001b[0m \u001b[0;32min\u001b[0m \u001b[0mrange\u001b[0m\u001b[0;34m(\u001b[0m\u001b[0mepochs\u001b[0m\u001b[0;34m)\u001b[0m\u001b[0;34m:\u001b[0m\u001b[0;34m\u001b[0m\u001b[0;34m\u001b[0m\u001b[0m\n\u001b[1;32m      3\u001b[0m \u001b[0;34m\u001b[0m\u001b[0m\n\u001b[0;32m----> 4\u001b[0;31m     \u001b[0mtrain_loss\u001b[0m\u001b[0;34m,\u001b[0m \u001b[0mtrain_acc\u001b[0m \u001b[0;34m=\u001b[0m \u001b[0mtrain_model\u001b[0m\u001b[0;34m(\u001b[0m\u001b[0mmodel\u001b[0m\u001b[0;34m,\u001b[0m \u001b[0mtrain_dataloader\u001b[0m\u001b[0;34m,\u001b[0m \u001b[0moptimizer\u001b[0m\u001b[0;34m,\u001b[0m \u001b[0mcombined_loss\u001b[0m\u001b[0;34m)\u001b[0m\u001b[0;34m\u001b[0m\u001b[0;34m\u001b[0m\u001b[0m\n\u001b[0m\u001b[1;32m      5\u001b[0m     \u001b[0mvalid_loss\u001b[0m\u001b[0;34m,\u001b[0m \u001b[0mvalid_acc\u001b[0m \u001b[0;34m=\u001b[0m \u001b[0mvalidate_model\u001b[0m\u001b[0;34m(\u001b[0m\u001b[0mmodel\u001b[0m\u001b[0;34m,\u001b[0m \u001b[0mvalid_dataloader\u001b[0m\u001b[0;34m,\u001b[0m \u001b[0mcombined_loss\u001b[0m\u001b[0;34m)\u001b[0m\u001b[0;34m\u001b[0m\u001b[0;34m\u001b[0m\u001b[0m\n\u001b[1;32m      6\u001b[0m \u001b[0;34m\u001b[0m\u001b[0m\n",
            "\u001b[0;32m<ipython-input-22-5cdea46156d4>\u001b[0m in \u001b[0;36mtrain_model\u001b[0;34m(model, dataloader, optimizer, combined_loss)\u001b[0m\n\u001b[1;32m     26\u001b[0m \u001b[0;34m\u001b[0m\u001b[0m\n\u001b[1;32m     27\u001b[0m         \u001b[0mloss\u001b[0m \u001b[0;34m=\u001b[0m \u001b[0mcombined_loss\u001b[0m\u001b[0;34m(\u001b[0m\u001b[0moutput\u001b[0m\u001b[0;34m,\u001b[0m \u001b[0mlabel\u001b[0m\u001b[0;34m)\u001b[0m\u001b[0;34m\u001b[0m\u001b[0;34m\u001b[0m\u001b[0m\n\u001b[0;32m---> 28\u001b[0;31m         \u001b[0mloss\u001b[0m\u001b[0;34m.\u001b[0m\u001b[0mbackward\u001b[0m\u001b[0;34m(\u001b[0m\u001b[0;34m)\u001b[0m\u001b[0;34m\u001b[0m\u001b[0;34m\u001b[0m\u001b[0m\n\u001b[0m\u001b[1;32m     29\u001b[0m         \u001b[0moptimizer\u001b[0m\u001b[0;34m.\u001b[0m\u001b[0mstep\u001b[0m\u001b[0;34m(\u001b[0m\u001b[0;34m)\u001b[0m\u001b[0;34m\u001b[0m\u001b[0;34m\u001b[0m\u001b[0m\n\u001b[1;32m     30\u001b[0m \u001b[0;34m\u001b[0m\u001b[0m\n",
            "\u001b[0;32m/usr/local/lib/python3.10/dist-packages/torch/_tensor.py\u001b[0m in \u001b[0;36mbackward\u001b[0;34m(self, gradient, retain_graph, create_graph, inputs)\u001b[0m\n\u001b[1;32m    485\u001b[0m                 \u001b[0minputs\u001b[0m\u001b[0;34m=\u001b[0m\u001b[0minputs\u001b[0m\u001b[0;34m,\u001b[0m\u001b[0;34m\u001b[0m\u001b[0;34m\u001b[0m\u001b[0m\n\u001b[1;32m    486\u001b[0m             )\n\u001b[0;32m--> 487\u001b[0;31m         torch.autograd.backward(\n\u001b[0m\u001b[1;32m    488\u001b[0m             \u001b[0mself\u001b[0m\u001b[0;34m,\u001b[0m \u001b[0mgradient\u001b[0m\u001b[0;34m,\u001b[0m \u001b[0mretain_graph\u001b[0m\u001b[0;34m,\u001b[0m \u001b[0mcreate_graph\u001b[0m\u001b[0;34m,\u001b[0m \u001b[0minputs\u001b[0m\u001b[0;34m=\u001b[0m\u001b[0minputs\u001b[0m\u001b[0;34m\u001b[0m\u001b[0;34m\u001b[0m\u001b[0m\n\u001b[1;32m    489\u001b[0m         )\n",
            "\u001b[0;32m/usr/local/lib/python3.10/dist-packages/torch/autograd/__init__.py\u001b[0m in \u001b[0;36mbackward\u001b[0;34m(tensors, grad_tensors, retain_graph, create_graph, grad_variables, inputs)\u001b[0m\n\u001b[1;32m    198\u001b[0m     \u001b[0;31m# some Python versions print out the first line of a multi-line function\u001b[0m\u001b[0;34m\u001b[0m\u001b[0;34m\u001b[0m\u001b[0m\n\u001b[1;32m    199\u001b[0m     \u001b[0;31m# calls in the traceback and some print out the last line\u001b[0m\u001b[0;34m\u001b[0m\u001b[0;34m\u001b[0m\u001b[0m\n\u001b[0;32m--> 200\u001b[0;31m     Variable._execution_engine.run_backward(  # Calls into the C++ engine to run the backward pass\n\u001b[0m\u001b[1;32m    201\u001b[0m         \u001b[0mtensors\u001b[0m\u001b[0;34m,\u001b[0m \u001b[0mgrad_tensors_\u001b[0m\u001b[0;34m,\u001b[0m \u001b[0mretain_graph\u001b[0m\u001b[0;34m,\u001b[0m \u001b[0mcreate_graph\u001b[0m\u001b[0;34m,\u001b[0m \u001b[0minputs\u001b[0m\u001b[0;34m,\u001b[0m\u001b[0;34m\u001b[0m\u001b[0;34m\u001b[0m\u001b[0m\n\u001b[1;32m    202\u001b[0m         allow_unreachable=True, accumulate_grad=True)  # Calls into the C++ engine to run the backward pass\n",
            "\u001b[0;31mKeyboardInterrupt\u001b[0m: "
          ]
        }
      ]
    },
    {
      "cell_type": "code",
      "source": [
        "torch.save(model.state_dict(), 'model_parameters.pt')"
      ],
      "metadata": {
        "id": "C8ZH9qXdO789"
      },
      "execution_count": null,
      "outputs": []
    }
  ]
}